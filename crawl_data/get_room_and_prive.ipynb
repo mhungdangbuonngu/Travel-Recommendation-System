{
 "cells": [
  {
   "cell_type": "code",
   "execution_count": 42,
   "metadata": {},
   "outputs": [],
   "source": [
    "from bs4 import BeautifulSoup as bp\n",
    "import numpy as np\n",
    "import pandas as pd\n",
    "from selenium import webdriver\n",
    "from selenium.webdriver.chrome.options import Options\n",
    "\n",
    "import csv\n",
    "import time\n"
   ]
  },
  {
   "cell_type": "code",
   "execution_count": 43,
   "metadata": {},
   "outputs": [],
   "source": [
    "options=Options()\n",
    "user_agent = \"Mozilla/5.0 (Windows NT 10.0; Win64; x64) AppleWebKit/537.36 (KHTML, like Gecko) Chrome/127.0.0.0 Safari/537.36\"\n",
    "options.add_argument(f\"user-agent={user_agent}\")"
   ]
  },
  {
   "cell_type": "code",
   "execution_count": 44,
   "metadata": {},
   "outputs": [],
   "source": [
    "#options.add_argument(f'--user-agent={user_agent}')\n",
    "driver=webdriver.Chrome(options=options)\n",
    "driver.get('https://www.traveloka.com/vi-vn/hotel/detail?spec=20-08-2024.21-08-2024.1.1.HOTEL.9000001039894.22land%20Residence%20Hotel%2071%20Hang%20Bong.2&contexts=%7B%22inventoryRateKey%22%3A%22povEwB3ZzsU2C6pd%2B6MdU13LUNuufACdbU0usK5vg0dM0tKsNUio4Rxug1zOzHJilcvZa8YdqqIySdppe7dolTIewZlxfjiOGz6oXLTucMvN0%2BgQ3yZPvZcoHwUFNN%2BZpcr%2F%2FNa8o9ElfN8zOYhzzZeg0X586laFpeUViPi9rxAj%2FTWLrN5xr%2FFx6X8JiglCmhLDdV0WLeT%2FFKfQ0QL8LH02Dvlx%2F8PjYogEE5yzx6g6yOKyKeIDf7jO3GM45O1o1hmSkmz3HiZNSbS8gXb3CDW9nmlhkqLKa4lLkAkZpAH0gcTfW1b8h02Mkay%2BiC4Iq33WkPCO6SMyNSDQqAlb6WS6bi7h%2Fw2IxaeAsuP0oBpE%2B%2Bwh5K1%2Bwq63%2B1AW5LQHeOjRTl6ytxGba%2F42pjcyydEESW7Hq%2F%2BXk7KJE212dw4AXKQOmCpb3eVL6kGbabW6Yn%2Bxx0tb9%2BpxAg0Ppk3eA27HBXiXvvsHN9BhHd%2FKWGiNmO0SRV1ogUSH81Kgs05BsmVHb%2FDz2eMMIR3KhBjDXyMn1qdaM1viWqCGwU1siX1ZIegdsZIo1sjlWnbsTcjefS6Pj3RtIU6lROCEB6QAgiS1WJabPNVEO7waQAXksTDyQHUY2wqyAfRzb44KOjG0H%2Fyaj8MBIo5YyvEVTpdvVDyhX%2Fvi4PswzgC5JhUlHZrcYsqJ2%2Fap3SGpbJdQ22ng3q%2Bfqt4KSNCPNxIlJ8xQoLeekG4C3Wfzu3vEJ07kKAzDDZvHNY9JJ5O%2F0vjIhtS0Q%2BExpb%2F6FXMDZfD5tvjuM3ZoN0y5Ng159%2BivOml2jBfhSeSJt194lxxdhoIr%2FKDTUyrcx0JbbnOhcrDvcXJI6g%3D%3D%22%7D&loginPromo=1&prevSearchId=1807782066738191158')"
   ]
  },
  {
   "cell_type": "code",
   "execution_count": 45,
   "metadata": {},
   "outputs": [],
   "source": [
    "def get_hotel_price_and_fac(soup):\n",
    "    room_list = soup.find('div', class_='css-1dbjc4n r-1oszu61 r-eqz5dr', attrs={'data-testid': 'room-list-tray'})\n",
    "    \n",
    "    if not room_list:\n",
    "        return {}  # Return an empty dictionary if no rooms are found\n",
    "    \n",
    "    rooms_data = []\n",
    "    rooms = room_list.findAll('div', class_='css-1dbjc4n r-1udh08x')\n",
    "    rooms = [room for room in rooms if not room.find('div', class_='css-1dbjc4n')]\n",
    "\n",
    "    for room in rooms:\n",
    "        room_info = {}\n",
    "\n",
    "        name = room.find('h3', class_='css-4rbku5 css-901oao css-bfa6kz r-cwxd7f r-a5wbuh r-b88u0q r-135wba7 r-fdjqy7')\n",
    "        room_info['name'] = name.text.strip() if name else 'N/A'\n",
    "\n",
    "        facilities = []\n",
    "        fac_elements = room.findAll('div', class_='css-901oao css-cens5h r-1ud240a r-a5wbuh r-1enofrn r-majxgm r-fdjqy7')\n",
    "        for fac in fac_elements:\n",
    "            facilities.append(fac.get_text().strip())\n",
    "        room_info['facilities'] = facilities\n",
    "\n",
    "        prices = []\n",
    "        price_elements = room.findAll('div', class_='css-901oao r-1loqt21 r-a5wbuh r-ubezar r-b88u0q r-135wba7 r-1ff274t')\n",
    "        for price in price_elements:\n",
    "            prices.append(price.get_text().strip())\n",
    "        room_info['price'] = prices\n",
    "\n",
    "        rooms_data.append(room_info)\n",
    "\n",
    "    return rooms_data\n",
    "  \n",
    "                \n",
    "        "
   ]
  },
  {
   "cell_type": "code",
   "execution_count": 46,
   "metadata": {},
   "outputs": [],
   "source": [
    "\n",
    "def extract_hotels_url(url,i):\n",
    "    info={}\n",
    "    print(f\"scraping URL number: {i}\")\n",
    "    #driver.get(url=url)\n",
    "    #driver.implicitly_wait(10)\n",
    "    #time.sleep(10)\n",
    "    soup=bp(url,'lxml')\n",
    "    info['room_price']=get_hotel_price_and_fac(soup)\n",
    "    return info\n"
   ]
  },
  {
   "cell_type": "code",
   "execution_count": 47,
   "metadata": {},
   "outputs": [
    {
     "name": "stdout",
     "output_type": "stream",
     "text": [
      "scraping URL number: 0\n"
     ]
    }
   ],
   "source": [
    "if __name__ ==\"__main__\":\n",
    "    data=[]\n",
    "    with open('hotels.csv',newline='',encoding='utf-8') as csvfile:\n",
    "        reader = csv.reader(csvfile, delimiter=',')\n",
    "        i=0\n",
    "        for row in reader:\n",
    "            url=row[0]\n",
    "            file_name = \"hotels.txt\"\n",
    "            time.sleep(10)\n",
    "            data.append(extract_hotels_url(driver.page_source,i))\n",
    "            with open('html.txt','w',encoding='utf-8') as file:\n",
    "                file.write(driver.page_source)\n",
    "            with open(file_name, 'w', encoding='utf-8') as file:\n",
    "                file.write(str(data))\n",
    "            i+=1\n",
    "            time.sleep(0.25)"
   ]
  },
  {
   "cell_type": "code",
   "execution_count": null,
   "metadata": {},
   "outputs": [],
   "source": []
  }
 ],
 "metadata": {
  "kernelspec": {
   "display_name": "Python 3",
   "language": "python",
   "name": "python3"
  },
  "language_info": {
   "codemirror_mode": {
    "name": "ipython",
    "version": 3
   },
   "file_extension": ".py",
   "mimetype": "text/x-python",
   "name": "python",
   "nbconvert_exporter": "python",
   "pygments_lexer": "ipython3",
   "version": "3.11.9"
  }
 },
 "nbformat": 4,
 "nbformat_minor": 2
}
