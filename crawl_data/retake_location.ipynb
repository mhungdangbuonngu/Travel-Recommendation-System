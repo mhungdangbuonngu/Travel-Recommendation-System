{
 "cells": [
  {
   "cell_type": "code",
   "execution_count": 18,
   "metadata": {},
   "outputs": [],
   "source": [
    "from selenium import webdriver\n",
    "from selenium.webdriver.chrome.options import Options\n",
    "import psycopg2\n",
    "from bs4 import BeautifulSoup as bp\n",
    "import time\n",
    "from selenium.webdriver import ActionChains\n",
    "from selenium.webdriver.common.by import By\n",
    "from shapely.geometry import Point"
   ]
  },
  {
   "cell_type": "code",
   "execution_count": 4,
   "metadata": {},
   "outputs": [],
   "source": [
    "import getpass\n",
    "import os\n",
    "\n",
    "postgres_url = getpass.getpass(\"Enter your postgresql url: \")"
   ]
  },
  {
   "cell_type": "code",
   "execution_count": 5,
   "metadata": {},
   "outputs": [],
   "source": [
    "USER_AGENT = 'Mozilla/5.0 (Windows NT 10.0; Win64; x64) AppleWebKit/537.36 (KHTML, like Gecko) Chrome/127.0.0.0 Safari/537.36'\n",
    "REQUEST_HEADER = {\n",
    "    'User-Agent': USER_AGENT,\n",
    "    'Accept-language': 'vi-vn',\n",
    "}"
   ]
  },
  {
   "cell_type": "code",
   "execution_count": 6,
   "metadata": {},
   "outputs": [],
   "source": [
    "options=Options()\n",
    "options.add_argument(f\"user-agent={USER_AGENT}\")\n",
    "driver=webdriver.Chrome(options=options)"
   ]
  },
  {
   "cell_type": "code",
   "execution_count": 7,
   "metadata": {},
   "outputs": [],
   "source": [
    "driver.get('https://www.google.com/maps')"
   ]
  },
  {
   "cell_type": "code",
   "execution_count": 23,
   "metadata": {},
   "outputs": [],
   "source": [
    "def get_location(address):\n",
    "    # Click the search box input element\n",
    "    find = driver.find_element(By.XPATH, '//*[@id=\"searchboxinput\"]')\n",
    "    find.click()\n",
    "    find.clear()\n",
    "    time.sleep(1)\n",
    "\n",
    "# Input the address\n",
    "    find.send_keys(address)\n",
    "    time.sleep(1)\n",
    "\n",
    "#right_click to get the box with location\n",
    "    maps = driver.find_element(By.XPATH, '//*[@id=\"scene\"]/div[3]/canvas[1]')\n",
    "    time.sleep(2)\n",
    "    right_click = ActionChains(driver).context_click(maps)\n",
    "    right_click.perform()\n",
    "    time.sleep(1)  \n",
    "\n",
    "# Retrieve the text from the location box\n",
    "    location_box = driver.find_element(By.XPATH, '//*[@id=\"action-menu\"]/div[1]/div/div')\n",
    "    text = location_box.text\n",
    "    lat_text,long_text = text.split(\",\")\n",
    "    latitude=float(lat_text)\n",
    "    longitude=float(long_text)\n",
    "    print(f\"location: latitude {latitude}, longitude: {longitude}\")\n",
    "    return {'latitude': latitude, 'longitude': longitude}"
   ]
  },
  {
   "cell_type": "code",
   "execution_count": 31,
   "metadata": {},
   "outputs": [],
   "source": [
    "def insert_location(id,location):\n",
    "    print(f\"insert location {id} into db\")\n",
    "    if isinstance(location, dict) and 'longitude' in location and 'latitude' in location:\n",
    "        point = Point(location['longitude'], location['latitude'])\n",
    "        point_wkt = point.wkt\n",
    "        conn = psycopg2.connect(postgres_url)\n",
    "        cur = conn.cursor()\n",
    "        cur.execute(\"\"\"SET search_path TO travel_database, public;\"\"\")\n",
    "        query=\"\"\"\n",
    "        UPDATE Hotel SET location = ST_GeomFromText(%s, 4326)\n",
    "        WHERE hotel_id = %s;\"\"\"\n",
    "        cur.execute(query, (point_wkt,id))\n",
    "        conn.commit()\n",
    "        cur.close()\n",
    "        conn.close()\n",
    "        print(f\"updated location for {id}\")\n",
    "    else:\n",
    "        print(\"error: location is not dict\")"
   ]
  },
  {
   "cell_type": "code",
   "execution_count": 29,
   "metadata": {},
   "outputs": [],
   "source": [
    "def get_address():\n",
    "    print(f\"taking address of NULL places!!!\")\n",
    "    conn=psycopg2.connect(postgres_url)\n",
    "    cur=conn.cursor()\n",
    "    cur.execute(\"\"\"SET search_path TO travel_database, public;\"\"\")\n",
    "    query=\"\"\"\n",
    "    SELECT address,hotel_id from hotel WHERE location is NULL\"\"\"\n",
    "    cur.execute(query,)\n",
    "    conn.commit()\n",
    "    a= cur.fetchall()\n",
    "    cur.close()\n",
    "    conn.close()\n",
    "    print(f\"found {len(a)} places\")\n",
    "    return a"
   ]
  },
  {
   "cell_type": "code",
   "execution_count": 33,
   "metadata": {},
   "outputs": [
    {
     "name": "stdout",
     "output_type": "stream",
     "text": [
      "taking address of NULL places!!!\n",
      "found 1090 places\n",
      "location: latitude21.01051, longitude:105.80248\n",
      "insert location 1248 into db\n",
      "updated location for 1248\n",
      "location: latitude21.01051, longitude:105.80248\n",
      "insert location 2 into db\n",
      "updated location for 2\n",
      "location: latitude21.01051, longitude:105.80248\n",
      "insert location 652 into db\n",
      "updated location for 652\n",
      "location: latitude21.01051, longitude:105.80248\n",
      "insert location 1252 into db\n",
      "updated location for 1252\n",
      "location: latitude21.01051, longitude:105.80248\n",
      "insert location 1258 into db\n",
      "updated location for 1258\n",
      "location: latitude21.01051, longitude:105.80248\n",
      "insert location 35 into db\n",
      "updated location for 35\n",
      "location: latitude21.01051, longitude:105.80248\n",
      "insert location 37 into db\n",
      "updated location for 37\n",
      "location: latitude21.01051, longitude:105.80248\n",
      "insert location 2526 into db\n",
      "updated location for 2526\n",
      "location: latitude21.01051, longitude:105.80248\n",
      "insert location 43 into db\n",
      "updated location for 43\n",
      "location: latitude21.01051, longitude:105.80248\n",
      "insert location 1268 into db\n",
      "updated location for 1268\n",
      "location: latitude21.01051, longitude:105.80248\n",
      "insert location 47 into db\n",
      "updated location for 47\n",
      "location: latitude21.01051, longitude:105.80248\n",
      "insert location 48 into db\n",
      "updated location for 48\n",
      "location: latitude21.01051, longitude:105.80248\n",
      "insert location 1271 into db\n",
      "updated location for 1271\n",
      "location: latitude21.01051, longitude:105.80248\n",
      "insert location 1285 into db\n",
      "updated location for 1285\n",
      "location: latitude21.01051, longitude:105.80248\n",
      "insert location 2567 into db\n",
      "updated location for 2567\n",
      "location: latitude21.01051, longitude:105.80248\n",
      "insert location 59 into db\n",
      "updated location for 59\n",
      "location: latitude21.01051, longitude:105.80248\n",
      "insert location 65 into db\n",
      "updated location for 65\n",
      "location: latitude21.01051, longitude:105.80248\n",
      "insert location 61 into db\n",
      "updated location for 61\n",
      "location: latitude21.01051, longitude:105.80248\n",
      "insert location 1288 into db\n",
      "updated location for 1288\n",
      "location: latitude21.01051, longitude:105.80248\n",
      "insert location 71 into db\n",
      "updated location for 71\n",
      "location: latitude21.01051, longitude:105.80248\n",
      "insert location 72 into db\n",
      "updated location for 72\n",
      "location: latitude21.01051, longitude:105.80248\n",
      "insert location 76 into db\n",
      "updated location for 76\n",
      "location: latitude21.01051, longitude:105.80248\n",
      "insert location 78 into db\n",
      "updated location for 78\n",
      "location: latitude21.01051, longitude:105.80248\n",
      "insert location 86 into db\n",
      "updated location for 86\n"
     ]
    },
    {
     "ename": "KeyboardInterrupt",
     "evalue": "",
     "output_type": "error",
     "traceback": [
      "\u001b[1;31m---------------------------------------------------------------------------\u001b[0m",
      "\u001b[1;31mKeyboardInterrupt\u001b[0m                         Traceback (most recent call last)",
      "Cell \u001b[1;32mIn[33], line 6\u001b[0m\n\u001b[0;32m      4\u001b[0m address\u001b[38;5;241m=\u001b[39mrow[\u001b[38;5;241m0\u001b[39m]\n\u001b[0;32m      5\u001b[0m \u001b[38;5;28mid\u001b[39m\u001b[38;5;241m=\u001b[39mrow[\u001b[38;5;241m1\u001b[39m]\n\u001b[1;32m----> 6\u001b[0m location\u001b[38;5;241m=\u001b[39m\u001b[43mget_location\u001b[49m\u001b[43m(\u001b[49m\u001b[43maddress\u001b[49m\u001b[43m)\u001b[49m\n\u001b[0;32m      7\u001b[0m insert_location(\u001b[38;5;28mid\u001b[39m,location)\n\u001b[0;32m      8\u001b[0m time\u001b[38;5;241m.\u001b[39msleep(\u001b[38;5;241m2\u001b[39m)\n",
      "Cell \u001b[1;32mIn[23], line 10\u001b[0m, in \u001b[0;36mget_location\u001b[1;34m(address)\u001b[0m\n\u001b[0;32m      8\u001b[0m \u001b[38;5;66;03m# Input the address\u001b[39;00m\n\u001b[0;32m      9\u001b[0m     find\u001b[38;5;241m.\u001b[39msend_keys(address)\n\u001b[1;32m---> 10\u001b[0m     time\u001b[38;5;241m.\u001b[39msleep(\u001b[38;5;241m1\u001b[39m)\n\u001b[0;32m     12\u001b[0m \u001b[38;5;66;03m#right_click to get the box with location\u001b[39;00m\n\u001b[0;32m     13\u001b[0m     maps \u001b[38;5;241m=\u001b[39m driver\u001b[38;5;241m.\u001b[39mfind_element(By\u001b[38;5;241m.\u001b[39mXPATH, \u001b[38;5;124m'\u001b[39m\u001b[38;5;124m//*[@id=\u001b[39m\u001b[38;5;124m\"\u001b[39m\u001b[38;5;124mscene\u001b[39m\u001b[38;5;124m\"\u001b[39m\u001b[38;5;124m]/div[3]/canvas[1]\u001b[39m\u001b[38;5;124m'\u001b[39m)\n",
      "\u001b[1;31mKeyboardInterrupt\u001b[0m: "
     ]
    }
   ],
   "source": [
    "if __name__=='__main__':\n",
    "    a=get_address()\n",
    "    for row in a:\n",
    "        address=row[0]\n",
    "        id=row[1]\n",
    "        location=get_location(address)\n",
    "        insert_location(id,location)\n",
    "        time.sleep(2)\n"
   ]
  },
  {
   "cell_type": "code",
   "execution_count": null,
   "metadata": {},
   "outputs": [],
   "source": []
  }
 ],
 "metadata": {
  "kernelspec": {
   "display_name": "Python 3",
   "language": "python",
   "name": "python3"
  },
  "language_info": {
   "codemirror_mode": {
    "name": "ipython",
    "version": 3
   },
   "file_extension": ".py",
   "mimetype": "text/x-python",
   "name": "python",
   "nbconvert_exporter": "python",
   "pygments_lexer": "ipython3",
   "version": "3.11.9"
  }
 },
 "nbformat": 4,
 "nbformat_minor": 2
}
