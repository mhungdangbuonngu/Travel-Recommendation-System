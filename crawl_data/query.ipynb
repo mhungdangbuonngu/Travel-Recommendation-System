{
 "cells": [
  {
   "cell_type": "code",
   "execution_count": 1,
   "metadata": {},
   "outputs": [],
   "source": [
    "import psycopg2"
   ]
  },
  {
   "cell_type": "code",
   "execution_count": 123,
   "metadata": {},
   "outputs": [],
   "source": [
    "conn = psycopg2.connect(database = \"travellocations\", \n",
    "                        user = \"postgres\", \n",
    "                        host= 'localhost',\n",
    "                        password = \"cong2006\",\n",
    "                        port = 5432)"
   ]
  },
  {
   "cell_type": "code",
   "execution_count": 122,
   "metadata": {},
   "outputs": [],
   "source": [
    "cur = conn.cursor()\n",
    "\n",
    "# Thực thi các lệnh SQL để tạo schema, loại dữ liệu, và bảng\n",
    "cur.execute(\"\"\"\n",
    "DROP SCHEMA IF EXISTS places CASCADE;\n",
    "CREATE SCHEMA IF NOT EXISTS places;\n",
    "SET search_path TO places;\n",
    "\n",
    "CREATE TYPE address AS (\n",
    "    details TEXT,\n",
    "    ward TEXT,\n",
    "    district TEXT,\n",
    "    city TEXT\n",
    ");\n",
    "\n",
    "CREATE TYPE location AS (\n",
    "    latitude DECIMAL(9, 6),\n",
    "    longitude DECIMAL(9, 6)\n",
    ");\n",
    "\n",
    "CREATE TABLE places.hotels (\n",
    "    hotel_id SERIAL PRIMARY KEY,\n",
    "    name VARCHAR(255),\n",
    "    address address,\n",
    "    location location,\n",
    "    rating DECIMAL(2, 1),\n",
    "    description TEXT,\n",
    "    img_url JSON,\n",
    "    comments TEXT\n",
    ");\n",
    "\n",
    "CREATE TABLE places.hotel_price_range (\n",
    "    id SERIAL PRIMARY KEY,\n",
    "    hotel_id INT REFERENCES places.hotels(hotel_id) ON DELETE CASCADE,\n",
    "    room_type VARCHAR(100),\n",
    "    occupancy INT,\n",
    "    price DECIMAL(10, 2)\n",
    ");\n",
    "\"\"\")\n",
    "\n",
    "# Cam kết các thay đổi vào cơ sở dữ liệu\n",
    "conn.commit()\n",
    "\n",
    "# # Đóng con trỏ và kết nối\n",
    "cur.close()\n",
    "conn.close()\n"
   ]
  },
  {
   "cell_type": "code",
   "execution_count": 125,
   "metadata": {},
   "outputs": [],
   "source": [
    "hotel_name = 'Grand Hotel'\n",
    "address_details = '123 Main St'\n",
    "address_ward = 'Main ward'\n",
    "address_district = 'Downtown'\n",
    "address_city = 'New York'\n",
    "latitude = 40.712776\n",
    "longitude = -74.005974\n",
    "rating = 4.5\n",
    "description = 'A luxury hotel in the heart of the city.'\n",
    "img_url =   '{\"img_1\": \"http://example.com/image1.jpg\", \"img_2\": \"http://example.com/image2.jpg\"}' \n",
    "comments = 'Great amenities and service.'\n",
    "room_type = 'Suite'\n",
    "occupancy = 2\n",
    "price = 299.99\n",
    "cur = conn.cursor()\n",
    "\n",
    "cur.execute(\"\"\"\n",
    "    INSERT INTO places.hotels (name, address, location, rating, description, img_url, comments)\n",
    "    VALUES (%s, ROW(%s, %s, %s, %s), ROW(%s, %s), %s, %s, %s, %s)\n",
    "    RETURNING hotel_id;\n",
    "\"\"\", (hotel_name, address_details, address_ward, address_district, address_city, latitude, longitude, rating, description, img_url, comments))\n",
    "\n",
    "# Lấy ID của khách sạn mới chèn\n",
    "hotel_id = cur.fetchone()[0]\n",
    "\n",
    "# Chèn dữ liệu vào bảng hotel_price_range\n",
    "cur.execute(\"\"\"\n",
    "    INSERT INTO places.hotel_price_range (hotel_id, room_type, occupancy, price)\n",
    "    VALUES (%s, %s, %s, %s);\n",
    "\"\"\", (hotel_id, room_type, occupancy, price))\n",
    "\n",
    "# Cam kết các thay đổi vào cơ sở dữ liệu\n",
    "conn.commit()\n",
    "\n",
    "# # Đóng con trỏ và kết nối\n",
    "cur.close()\n",
    "conn.close()"
   ]
  },
  {
   "cell_type": "code",
   "execution_count": 27,
   "metadata": {},
   "outputs": [],
   "source": [
    "import requests\n",
    "from bs4 import BeautifulSoup as bp\n",
    "import time\n",
    "import csv"
   ]
  },
  {
   "cell_type": "code",
   "execution_count": 21,
   "metadata": {},
   "outputs": [],
   "source": [
    "USER_AGENT = 'Mozilla/5.0 (Windows NT 10.0; Win64; x64) AppleWebKit/537.36 (KHTML, like Gecko) Chrome/127.0.0.0 Safari/537.36'\n",
    "REQUEST_HEADER = {\n",
    "    'User-Agent': USER_AGENT,\n",
    "    'Accept-language': 'en-US, en;q=0.5',\n",
    "}"
   ]
  },
  {
   "cell_type": "code",
   "execution_count": 51,
   "metadata": {},
   "outputs": [],
   "source": [
    "!pip install -qU langchain-google-genai"
   ]
  },
  {
   "cell_type": "code",
   "execution_count": 195,
   "metadata": {},
   "outputs": [],
   "source": [
    "import getpass\n",
    "import os\n",
    "\n",
    "os.environ[\"GOOGLE_API_KEY\"] = getpass.getpass(\"Enter your Google AI API key: \")"
   ]
  },
  {
   "cell_type": "code",
   "execution_count": 196,
   "metadata": {},
   "outputs": [],
   "source": [
    "from langchain_google_genai import ChatGoogleGenerativeAI\n",
    "\n",
    "llm = ChatGoogleGenerativeAI(\n",
    "    model=\"gemini-1.5-flash\",\n",
    "    temperature=0,\n",
    "    max_tokens=None,\n",
    "    timeout=None,\n",
    "    max_retries=2,\n",
    "    # other params...\n",
    ")"
   ]
  },
  {
   "cell_type": "code",
   "execution_count": 209,
   "metadata": {},
   "outputs": [],
   "source": [
    "import json\n",
    "import geocoder\n",
    "\n",
    "class HotelScraper:\n",
    "    def __init__(self, db_params):\n",
    "        self.conn = psycopg2.connect(**db_params)\n",
    "        self.cur = self.conn.cursor()\n",
    "\n",
    "    def get_page_html(self, url):\n",
    "        res = requests.get(url=url, headers=REQUEST_HEADER)\n",
    "        return res.text\n",
    "\n",
    "    def get_hotel_price(self, soup):\n",
    "        price_element = soup.find('div', attrs={'style': 'color: rgb(255, 94, 31); font-size: 20px;'})\n",
    "        if price_element:\n",
    "            true_price = price_element.text.strip().replace('VND', '').replace('.', '')\n",
    "            return float(true_price)\n",
    "        return None\n",
    "\n",
    "    def get_hotel_name(self, soup):\n",
    "        name = soup.find('div', class_='css-901oao r-a5wbuh r-1enofrn r-b88u0q r-1cwl3u0 r-fdjqy7 r-3s2u2q')\n",
    "        return name.text.strip() if name else None\n",
    "\n",
    "    def get_hotel_rating(self, soup):\n",
    "        rating = soup.find('div', class_='css-901oao r-jwli3a r-a5wbuh r-s67bdx r-b88u0q r-10cxs7j r-q4m81j')\n",
    "        return rating.text.strip() if rating else None\n",
    "\n",
    "    def get_hotel_des(self, soup):\n",
    "        des = soup.find('div', attrs={'style': 'font-family:Godwit, -apple-system, BlinkMacSystemFont, Segoe UI, Roboto, Arial, sans-serif, Apple Color Emoji, Segoe UI Emoji, Segoe UI Symbol;font-size:14px;line-height:20px;max-height:80px;overflow:hidden'})\n",
    "        return des.text.strip().replace('\\n', '') if des else None\n",
    "\n",
    "\n",
    "    def get_hotel_address(self, soup):\n",
    "        address = soup.find('div', class_='css-901oao css-cens5h r-13awgt0 r-a5wbuh r-1b43r93 r-majxgm r-rjixqe r-fdjqy7')\n",
    "        if address:\n",
    "            address_full = address.text.strip().replace('\\t', '')\n",
    "            \n",
    "            prompt = f\"\"\"\n",
    "                Separate the following address into 4 parts: house number, ward name, district name, and city name:\n",
    "                {address_full}\n",
    "\n",
    "                Provide the result in Vietnamese and strictly in the following format:\n",
    "                {{\n",
    "                \"details\": \"...\",\n",
    "                \"ward\": \"...\",\n",
    "                \"district\": \"...\",\n",
    "                \"city\": \"...\"\n",
    "                }}\n",
    "                \"\"\"\n",
    "            # Sử dụng mô hình ngôn ngữ để phân tích địa chỉ\n",
    "            response = llm.invoke(prompt)\n",
    "            response_text = str(response.content)\n",
    "            cleaned_json_str = response_text.strip('```json\\n').strip('```\\n')\n",
    "            try:\n",
    "                result_dict = json.loads(cleaned_json_str)\n",
    "                return result_dict\n",
    "            except json.JSONDecodeError:\n",
    "                return {'details': '', 'ward': '', 'district': '', 'city': ''}\n",
    "\n",
    "    def get_hotel_location(self, address):\n",
    "        addr = str(address['ward']+address['district']+address['city']) \n",
    "        g = geocoder.osm(addr)\n",
    "        location = g.osm\n",
    "        latitude = location['y']\n",
    "        longitude = location['x']\n",
    "        \n",
    "        return {'latitude':latitude, 'longitude':longitude}\n",
    "        \n",
    "        \n",
    "    def get_hotel_comments(self, soup):\n",
    "        comments = []\n",
    "        a = soup.findAll('div', class_='css-901oao css-cens5h r-cwxd7f r-a5wbuh r-1b43r93 r-majxgm r-rjixqe r-fdjqy7')\n",
    "        for comment in a:\n",
    "            comments.append(comment.text.strip())\n",
    "        return comments\n",
    "\n",
    "    def insert_hotel_data(self, info):\n",
    "        try:\n",
    "            # Insert hotel data\n",
    "            self.cur.execute(\"\"\"\n",
    "                INSERT INTO places.hotels (name, address, location, rating, description, img_url, comments)\n",
    "                VALUES (%s, ROW(%s, %s, %s, %s), ROW(%s, %s), %s, %s, %s, %s)\n",
    "                RETURNING hotel_id;\n",
    "            \"\"\", (\n",
    "                info['name'],\n",
    "                info['address']['details'],\n",
    "                info['address']['ward'],\n",
    "                info['address']['district'],\n",
    "                info['address']['city'],\n",
    "                info['location']['latitude'],\n",
    "                info['location']['longitude'],\n",
    "                info['rating'],\n",
    "                info['description'],\n",
    "                info.get('img_url', None),\n",
    "                info['comments']\n",
    "            ))\n",
    "\n",
    "            # Get the newly inserted hotel_id\n",
    "            hotel_id = self.cur.fetchone()[0]\n",
    "\n",
    "            # Insert hotel price range data\n",
    "            if 'price' in info:\n",
    "                self.cur.execute(\"\"\"\n",
    "                    INSERT INTO places.hotel_price_range (hotel_id, room_type, occupancy, price)\n",
    "                    VALUES (%s, %s, %s, %s)\n",
    "                \"\"\", (\n",
    "                    hotel_id,\n",
    "                    info.get('room_type', None),\n",
    "                    info.get('occupancy', None),\n",
    "                    info['price']\n",
    "                ))\n",
    "\n",
    "            # Commit the transaction\n",
    "            self.conn.commit()\n",
    "        except Exception as e:\n",
    "            print(f\"Error inserting data: {e}\")\n",
    "            self.conn.rollback()\n",
    "\n",
    "    def extract_hotels_url(self, url):\n",
    "        info = {}\n",
    "        html = self.get_page_html(url)\n",
    "        soup = bp(html, 'lxml')\n",
    "        info['name'] = self.get_hotel_name(soup)\n",
    "        info['price'] = self.get_hotel_price(soup)\n",
    "        info['rating'] = self.get_hotel_rating(soup)\n",
    "        info['address'] = self.get_hotel_address(soup)\n",
    "        info['location'] = self.get_hotel_location(info['address'])\n",
    "        info['description'] = self.get_hotel_des(soup)\n",
    "        info['comments'] = self.get_hotel_comments(soup)\n",
    "        return info\n",
    "\n",
    "    def close(self):\n",
    "        self.cur.close()\n",
    "        self.conn.close()"
   ]
  },
  {
   "cell_type": "code",
   "execution_count": 210,
   "metadata": {},
   "outputs": [
    {
     "name": "stderr",
     "output_type": "stream",
     "text": [
      "Status code 403 from https://nominatim.openstreetmap.org/search: ERROR - 403 Client Error: Forbidden for url: https://nominatim.openstreetmap.org/search?q=&format=jsonv2&addressdetails=1&limit=1\n"
     ]
    },
    {
     "ename": "TypeError",
     "evalue": "'NoneType' object is not subscriptable",
     "output_type": "error",
     "traceback": [
      "\u001b[0;31m---------------------------------------------------------------------------\u001b[0m",
      "\u001b[0;31mTypeError\u001b[0m                                 Traceback (most recent call last)",
      "Cell \u001b[0;32mIn[210], line 14\u001b[0m\n\u001b[1;32m     12\u001b[0m \u001b[38;5;28;01mfor\u001b[39;00m row \u001b[38;5;129;01min\u001b[39;00m reader:\n\u001b[1;32m     13\u001b[0m     url \u001b[38;5;241m=\u001b[39m row[\u001b[38;5;241m0\u001b[39m]\n\u001b[0;32m---> 14\u001b[0m     data \u001b[38;5;241m=\u001b[39m scraper\u001b[38;5;241m.\u001b[39mextract_hotels_url(url)\n\u001b[1;32m     15\u001b[0m     scraper\u001b[38;5;241m.\u001b[39minsert_hotel_data(data)\n\u001b[1;32m     16\u001b[0m     time\u001b[38;5;241m.\u001b[39msleep(\u001b[38;5;241m0.25\u001b[39m)\n",
      "Cell \u001b[0;32mIn[209], line 127\u001b[0m, in \u001b[0;36mHotelScraper.extract_hotels_url\u001b[0;34m(self, url)\u001b[0m\n\u001b[1;32m    125\u001b[0m info[\u001b[38;5;124m'\u001b[39m\u001b[38;5;124mrating\u001b[39m\u001b[38;5;124m'\u001b[39m] \u001b[38;5;241m=\u001b[39m \u001b[38;5;28mself\u001b[39m\u001b[38;5;241m.\u001b[39mget_hotel_rating(soup)\n\u001b[1;32m    126\u001b[0m info[\u001b[38;5;124m'\u001b[39m\u001b[38;5;124maddress\u001b[39m\u001b[38;5;124m'\u001b[39m] \u001b[38;5;241m=\u001b[39m \u001b[38;5;28mself\u001b[39m\u001b[38;5;241m.\u001b[39mget_hotel_address(soup)\n\u001b[0;32m--> 127\u001b[0m info[\u001b[38;5;124m'\u001b[39m\u001b[38;5;124mlocation\u001b[39m\u001b[38;5;124m'\u001b[39m] \u001b[38;5;241m=\u001b[39m \u001b[38;5;28mself\u001b[39m\u001b[38;5;241m.\u001b[39mget_hotel_location(info[\u001b[38;5;124m'\u001b[39m\u001b[38;5;124maddress\u001b[39m\u001b[38;5;124m'\u001b[39m])\n\u001b[1;32m    128\u001b[0m info[\u001b[38;5;124m'\u001b[39m\u001b[38;5;124mdescription\u001b[39m\u001b[38;5;124m'\u001b[39m] \u001b[38;5;241m=\u001b[39m \u001b[38;5;28mself\u001b[39m\u001b[38;5;241m.\u001b[39mget_hotel_des(soup)\n\u001b[1;32m    129\u001b[0m info[\u001b[38;5;124m'\u001b[39m\u001b[38;5;124mcomments\u001b[39m\u001b[38;5;124m'\u001b[39m] \u001b[38;5;241m=\u001b[39m \u001b[38;5;28mself\u001b[39m\u001b[38;5;241m.\u001b[39mget_hotel_comments(soup)\n",
      "Cell \u001b[0;32mIn[209], line 64\u001b[0m, in \u001b[0;36mHotelScraper.get_hotel_location\u001b[0;34m(self, address)\u001b[0m\n\u001b[1;32m     62\u001b[0m g \u001b[38;5;241m=\u001b[39m geocoder\u001b[38;5;241m.\u001b[39mosm(addr)\n\u001b[1;32m     63\u001b[0m location \u001b[38;5;241m=\u001b[39m g\u001b[38;5;241m.\u001b[39mosm\n\u001b[0;32m---> 64\u001b[0m latitude \u001b[38;5;241m=\u001b[39m location[\u001b[38;5;124m'\u001b[39m\u001b[38;5;124my\u001b[39m\u001b[38;5;124m'\u001b[39m]\n\u001b[1;32m     65\u001b[0m longitude \u001b[38;5;241m=\u001b[39m location[\u001b[38;5;124m'\u001b[39m\u001b[38;5;124mx\u001b[39m\u001b[38;5;124m'\u001b[39m]\n\u001b[1;32m     67\u001b[0m \u001b[38;5;28;01mreturn\u001b[39;00m {\u001b[38;5;124m'\u001b[39m\u001b[38;5;124mlatitude\u001b[39m\u001b[38;5;124m'\u001b[39m:latitude, \u001b[38;5;124m'\u001b[39m\u001b[38;5;124mlongitude\u001b[39m\u001b[38;5;124m'\u001b[39m:longitude}\n",
      "\u001b[0;31mTypeError\u001b[0m: 'NoneType' object is not subscriptable"
     ]
    }
   ],
   "source": [
    "db_params = {\n",
    "    'database': 'travellocations',\n",
    "    'user': 'postgres',\n",
    "    'host': 'localhost',\n",
    "    'password': 'cong2006',\n",
    "    'port': 5432\n",
    "}\n",
    "scraper = HotelScraper(db_params)\n",
    "\n",
    "with open('hotels.csv', newline='', encoding='utf-8') as csvfile:\n",
    "    reader = csv.reader(csvfile, delimiter=',')\n",
    "    for row in reader:\n",
    "        url = row[0]\n",
    "        data = scraper.extract_hotels_url(url)\n",
    "        scraper.insert_hotel_data(data)\n",
    "        time.sleep(0.25)\n",
    "\n",
    "scraper.close()"
   ]
  },
  {
   "cell_type": "code",
   "execution_count": 211,
   "metadata": {},
   "outputs": [
    {
     "name": "stdout",
     "output_type": "stream",
     "text": [
      "{'details': '18 Hàng Hòm', 'ward': 'Hàng Gai', 'district': 'Quận Hoàn Kiếm', 'city': 'Hà Nội'}\n",
      "phường Hàng Gai, quận Quận Hoàn Kiếm, thành phố Hà Nội\n"
     ]
    },
    {
     "name": "stderr",
     "output_type": "stream",
     "text": [
      "Status code 403 from https://nominatim.openstreetmap.org/search: ERROR - 403 Client Error: Forbidden for url: https://nominatim.openstreetmap.org/search?q=ph%C6%B0%E1%BB%9Dng+H%C3%A0ng+Gai%2C+qu%E1%BA%ADn+Qu%C3%A2%CC%A3n+Ho%C3%A0n+Ki%E1%BA%BFm%2C+th%C3%A0nh+ph%E1%BB%91+H%C3%A0+N%E1%BB%99i&format=jsonv2&addressdetails=1&limit=1\n"
     ]
    },
    {
     "name": "stdout",
     "output_type": "stream",
     "text": [
      "<class 'NoneType'>\n"
     ]
    },
    {
     "ename": "TypeError",
     "evalue": "'NoneType' object is not subscriptable",
     "output_type": "error",
     "traceback": [
      "\u001b[0;31m---------------------------------------------------------------------------\u001b[0m",
      "\u001b[0;31mTypeError\u001b[0m                                 Traceback (most recent call last)",
      "Cell \u001b[0;32mIn[211], line 13\u001b[0m\n\u001b[1;32m     11\u001b[0m location\n\u001b[1;32m     12\u001b[0m \u001b[38;5;28mprint\u001b[39m(\u001b[38;5;28mtype\u001b[39m(location))\n\u001b[0;32m---> 13\u001b[0m latitude \u001b[38;5;241m=\u001b[39m location[\u001b[38;5;124m'\u001b[39m\u001b[38;5;124my\u001b[39m\u001b[38;5;124m'\u001b[39m]\n\u001b[1;32m     14\u001b[0m longitude \u001b[38;5;241m=\u001b[39m location[\u001b[38;5;124m'\u001b[39m\u001b[38;5;124mx\u001b[39m\u001b[38;5;124m'\u001b[39m]\n\u001b[1;32m     15\u001b[0m \u001b[38;5;28mprint\u001b[39m(latitude,longitude)\n",
      "\u001b[0;31mTypeError\u001b[0m: 'NoneType' object is not subscriptable"
     ]
    }
   ],
   "source": [
    "scraper = HotelScraper(db_params)\n",
    "url = \"https://www.traveloka.com/vi-vn/hotel/vietnam/hanoi-sunshine-hotel-1000000468475?spec=18-08-2024.19-08-2024.1.1.HOTEL.1000000468475..2\"\n",
    "html = scraper.get_page_html(url)\n",
    "soup = bp(html, 'lxml')\n",
    "address = scraper.get_hotel_address(soup)\n",
    "print(address)\n",
    "addr = str(\"phường \"+address['ward']+\", quận \"+address['district']+\", thành phố \"+address['city']) \n",
    "print(addr)\n",
    "g = geocoder.osm(addr)\n",
    "location = g.osm\n",
    "location\n",
    "print(type(location))\n",
    "latitude = location['y']\n",
    "longitude = location['x']\n",
    "print(latitude,longitude)"
   ]
  },
  {
   "cell_type": "code",
   "execution_count": 162,
   "metadata": {},
   "outputs": [
    {
     "name": "stderr",
     "output_type": "stream",
     "text": [
      "WARNING: All log messages before absl::InitializeLog() is called are written to STDERR\n",
      "I0000 00:00:1723934514.000823   30586 fork_posix.cc:77] Other threads are currently calling into gRPC, skipping fork() handlers\n"
     ]
    },
    {
     "name": "stdout",
     "output_type": "stream",
     "text": [
      "Requirement already satisfied: geocoder in /home/nkcong206/.miniconda3/lib/python3.11/site-packages (1.38.1)\n",
      "Requirement already satisfied: click in /home/nkcong206/.miniconda3/lib/python3.11/site-packages (from geocoder) (8.1.7)\n",
      "Requirement already satisfied: future in /home/nkcong206/.miniconda3/lib/python3.11/site-packages (from geocoder) (0.18.3)\n",
      "Requirement already satisfied: ratelim in /home/nkcong206/.miniconda3/lib/python3.11/site-packages (from geocoder) (0.1.6)\n",
      "Requirement already satisfied: requests in /home/nkcong206/.miniconda3/lib/python3.11/site-packages (from geocoder) (2.31.0)\n",
      "Requirement already satisfied: six in /home/nkcong206/.miniconda3/lib/python3.11/site-packages (from geocoder) (1.16.0)\n",
      "Requirement already satisfied: decorator in /home/nkcong206/.miniconda3/lib/python3.11/site-packages (from ratelim->geocoder) (5.1.1)\n",
      "Requirement already satisfied: charset-normalizer<4,>=2 in /home/nkcong206/.miniconda3/lib/python3.11/site-packages (from requests->geocoder) (2.0.4)\n",
      "Requirement already satisfied: idna<4,>=2.5 in /home/nkcong206/.miniconda3/lib/python3.11/site-packages (from requests->geocoder) (3.4)\n",
      "Requirement already satisfied: urllib3<3,>=1.21.1 in /home/nkcong206/.miniconda3/lib/python3.11/site-packages (from requests->geocoder) (1.26.18)\n",
      "Requirement already satisfied: certifi>=2017.4.17 in /home/nkcong206/.miniconda3/lib/python3.11/site-packages (from requests->geocoder) (2024.2.2)\n"
     ]
    }
   ],
   "source": [
    "!pip install geocoder"
   ]
  },
  {
   "cell_type": "code",
   "execution_count": 187,
   "metadata": {},
   "outputs": [
    {
     "data": {
      "text/plain": [
       "{'x': 105.8490719,\n",
       " 'y': 21.0321611,\n",
       " 'addr:city': 'Thành phố Hà Nội',\n",
       " 'addr:country': 'Việt Nam',\n",
       " 'addr:postal': '11015'}"
      ]
     },
     "execution_count": 187,
     "metadata": {},
     "output_type": "execute_result"
    }
   ],
   "source": [
    "import geocoder\n",
    "g = geocoder.osm('Hàng Gai, Hoàn Kiếm, Hà Nội, Việt Nam')\n",
    "g.osm"
   ]
  },
  {
   "cell_type": "code",
   "execution_count": null,
   "metadata": {},
   "outputs": [],
   "source": []
  }
 ],
 "metadata": {
  "kernelspec": {
   "display_name": "base",
   "language": "python",
   "name": "python3"
  },
  "language_info": {
   "codemirror_mode": {
    "name": "ipython",
    "version": 3
   },
   "file_extension": ".py",
   "mimetype": "text/x-python",
   "name": "python",
   "nbconvert_exporter": "python",
   "pygments_lexer": "ipython3",
   "version": "3.11.5"
  }
 },
 "nbformat": 4,
 "nbformat_minor": 2
}
