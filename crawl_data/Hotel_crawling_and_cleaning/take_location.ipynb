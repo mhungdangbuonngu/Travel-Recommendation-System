{
 "cells": [
  {
   "cell_type": "code",
   "execution_count": 1,
   "metadata": {},
   "outputs": [],
   "source": [
    "from selenium import webdriver\n",
    "from selenium.webdriver.chrome.options import Options\n",
    "import psycopg2\n",
    "from bs4 import BeautifulSoup as bp\n",
    "import time\n",
    "from selenium.webdriver import ActionChains\n",
    "from selenium.webdriver.common.by import By\n",
    "from shapely.geometry import Point\n",
    "import requests\n",
    "import csv\n"
   ]
  },
  {
   "cell_type": "code",
   "execution_count": null,
   "metadata": {},
   "outputs": [],
   "source": [
    "import getpass\n",
    "import os\n",
    "\n",
    "postgres_url=getpass.getpass(\"enter your postgresql url: \")\n"
   ]
  },
  {
   "cell_type": "code",
   "execution_count": 2,
   "metadata": {},
   "outputs": [],
   "source": [
    "USER_AGENT = 'Mozilla/5.0 (Windows NT 10.0; Win64; x64) AppleWebKit/537.36 (KHTML, like Gecko) Chrome/127.0.0.0 Safari/537.36'\n",
    "REQUEST_HEADER = {\n",
    "    'User-Agent': USER_AGENT,\n",
    "    'Accept-language': 'vi-vn',\n",
    "}"
   ]
  },
  {
   "cell_type": "code",
   "execution_count": 3,
   "metadata": {},
   "outputs": [],
   "source": [
    "options=Options()\n",
    "options.add_argument(f\"user-agent={USER_AGENT}\")\n",
    "driver=webdriver.Chrome(options=options)"
   ]
  },
  {
   "cell_type": "code",
   "execution_count": 6,
   "metadata": {},
   "outputs": [],
   "source": [
    "driver.get('https://www.google.com/maps')"
   ]
  },
  {
   "cell_type": "code",
   "execution_count": 4,
   "metadata": {},
   "outputs": [],
   "source": [
    "def get_page_html(url):\n",
    "    res = requests.get(url=url, headers=REQUEST_HEADER)\n",
    "    return res.text\n",
    "def get_hotel_name(soup):\n",
    "    name = soup.find('div', class_='css-901oao r-a5wbuh r-1enofrn r-b88u0q r-1cwl3u0 r-fdjqy7 r-3s2u2q')\n",
    "    return name.text.strip() if name else None\n",
    "def get_hotel_address(soup,name):\n",
    "    address = soup.find('div', class_='css-901oao css-cens5h r-13awgt0 r-a5wbuh r-1b43r93 r-majxgm r-rjixqe r-fdjqy7')\n",
    "    if address:\n",
    "        \n",
    "        address_full = address.text.strip().replace('\\t', '')\n",
    "        return address_full\n",
    "    else:\n",
    "        print(f'cannot find address for {name}')\n"
   ]
  },
  {
   "cell_type": "code",
   "execution_count": null,
   "metadata": {},
   "outputs": [],
   "source": [
    "def get_hotel_id(name):\n",
    "    query=\"\"\"\n",
    "        SELECT hotel_id\n",
    "        FROM hotel\n",
    "        WHERE name ILIKE %s;\"\"\"\n",
    "    conn = psycopg2.connect(postgres_url)\n",
    "    cur = conn.cursor()\n",
    "    cur.execute(\"\"\"SET search_path TO travel_database, public;\"\"\")\n",
    "    cur.execute(query,(name,))\n",
    "    row=cur.fetchone()\n",
    "    hotel_id = row[0]\n",
    "    cur.close()\n",
    "    return hotel_id"
   ]
  },
  {
   "cell_type": "code",
   "execution_count": null,
   "metadata": {},
   "outputs": [],
   "source": [
    "def insert_db_hotel_price(price,id):\n",
    "    print(f\"insert price into db of room {id}\")\n",
    "    conn = psycopg2.connect(postgres_url)\n",
    "    cur = conn.cursor()\n",
    "    cur.execute(\"\"\"SET search_path TO travel_database, public;\"\"\")\n",
    "    query=\"\"\"\n",
    "    UPDATE Hotelprice SET price = %s\n",
    "    WHERE hotel_id = %s;\"\"\"\n",
    "    cur.execute(query, (price,id))\n",
    "    conn.commit()\n",
    "    cur.close()\n",
    "    conn.close()"
   ]
  },
  {
   "cell_type": "code",
   "execution_count": 5,
   "metadata": {},
   "outputs": [],
   "source": [
    "def get_location(address):\n",
    "    # Click the search box input element\n",
    "    print(f'get location for {address}')\n",
    "    find = driver.find_element(By.XPATH, '//*[@id=\"searchboxinput\"]')\n",
    "    find.click()\n",
    "    find.clear()\n",
    "    time.sleep(2)\n",
    "\n",
    "# Input the address\n",
    "    find.send_keys(address)\n",
    "    time.sleep(2)\n",
    "    button=driver.find_element(By.XPATH,'//*[@id=\"searchbox-searchbutton\"]')\n",
    "    button.click()\n",
    "    time.sleep(5)\n",
    "    current_url=driver.current_url\n",
    "    current_url=current_url.split('/')\n",
    "    current_url\n",
    "    raw_location=current_url[6].split(',')\n",
    "    raw_location\n",
    "    latitude_float=float(raw_location[0].replace('@',''))\n",
    "    longitude_float=float(raw_location[1])\n",
    "# In ra kết quả hoặc lưu vào biến\n",
    "    print(f\"Latitude: {latitude_float}, Longitude: {longitude_float}\")\n",
    "    return {'latitude': latitude_float, 'longitude': longitude_float}"
   ]
  },
  {
   "cell_type": "code",
   "execution_count": null,
   "metadata": {},
   "outputs": [],
   "source": [
    "def insert_location(id,location):\n",
    "    print(f\"insert location {id} into db\")\n",
    "    if isinstance(location, dict) and 'longitude' in location and 'latitude' in location:\n",
    "        point = Point(location['longitude'], location['latitude'])\n",
    "        point_wkt = point.wkt\n",
    "        conn = psycopg2.connect(postgres_url)\n",
    "        cur = conn.cursor()\n",
    "        cur.execute(\"\"\"SET search_path TO travel_database, public;\"\"\")\n",
    "        query=\"\"\"\n",
    "        UPDATE Hotel SET location = ST_GeomFromText(%s, 4326)\n",
    "        WHERE hotel_id = %s;\"\"\"\n",
    "        cur.execute(query, (point_wkt,id))\n",
    "        conn.commit()\n",
    "        cur.close()\n",
    "        conn.close()\n",
    "        print(f\"updated location for {id}\")\n",
    "    else:\n",
    "        print(\"error: location is not dict\")"
   ]
  },
  {
   "cell_type": "code",
   "execution_count": 10,
   "metadata": {},
   "outputs": [
    {
     "name": "stdout",
     "output_type": "stream",
     "text": [
      "hotel_urls_1:\n",
      "scraping url: 1\n",
      "HTML fetched successful\n",
      "get location for 3 B9 Đầm Trấu, Bạch Đằng, Quận Hai Bà Trưng, Hà Nội, Việt Nam, 11600\n",
      "Latitude: 21.0120439, Longitude: 105.8651544\n",
      "scraping url: 1\n",
      "HTML fetched successful\n",
      "get location for 21 Hàng Cá, Hàng Đào, Quận Hoàn Kiếm, Hà Nội, Việt Nam, 101113\n",
      "Latitude: 21.0360747, Longitude: 105.8487235\n",
      "scraping url: 1\n",
      "HTML fetched successful\n",
      "get location for 14 P. Lý Nam Đế, Quán Thánh, Hoàn Kiếm, Hàng Mã, Quận Hoàn Kiếm, Hà Nội, Việt Nam, 100000\n"
     ]
    },
    {
     "ename": "KeyboardInterrupt",
     "evalue": "",
     "output_type": "error",
     "traceback": [
      "\u001b[1;31m---------------------------------------------------------------------------\u001b[0m",
      "\u001b[1;31mKeyboardInterrupt\u001b[0m                         Traceback (most recent call last)",
      "Cell \u001b[1;32mIn[10], line 17\u001b[0m\n\u001b[0;32m     15\u001b[0m add\u001b[38;5;241m=\u001b[39mget_hotel_address(soup,name)\n\u001b[0;32m     16\u001b[0m time\u001b[38;5;241m.\u001b[39msleep(\u001b[38;5;241m0.5\u001b[39m)\n\u001b[1;32m---> 17\u001b[0m location\u001b[38;5;241m=\u001b[39m\u001b[43mget_location\u001b[49m\u001b[43m(\u001b[49m\u001b[43madd\u001b[49m\u001b[43m)\u001b[49m\n\u001b[0;32m     18\u001b[0m \u001b[38;5;66;03m#insert_location(id,location) \u001b[39;00m\n",
      "Cell \u001b[1;32mIn[5], line 7\u001b[0m, in \u001b[0;36mget_location\u001b[1;34m(address)\u001b[0m\n\u001b[0;32m      5\u001b[0m     find\u001b[38;5;241m.\u001b[39mclick()\n\u001b[0;32m      6\u001b[0m     find\u001b[38;5;241m.\u001b[39mclear()\n\u001b[1;32m----> 7\u001b[0m     \u001b[43mtime\u001b[49m\u001b[38;5;241;43m.\u001b[39;49m\u001b[43msleep\u001b[49m\u001b[43m(\u001b[49m\u001b[38;5;241;43m2\u001b[39;49m\u001b[43m)\u001b[49m\n\u001b[0;32m      9\u001b[0m \u001b[38;5;66;03m# Input the address\u001b[39;00m\n\u001b[0;32m     10\u001b[0m     find\u001b[38;5;241m.\u001b[39msend_keys(address)\n",
      "\u001b[1;31mKeyboardInterrupt\u001b[0m: "
     ]
    }
   ],
   "source": [
    "for i in range(1,2):\n",
    "    print(f'hotel_urls_{i}:')\n",
    "    with open(f'D:/random_code/hotel_urls/hotel_urls/hotel_urls_{i}.csv', newline='',encoding='utf-8') as csvfile:\n",
    "        reader = csv.reader(csvfile, delimiter=',')\n",
    "        j=1\n",
    "        for row in reader:\n",
    "            print(f'scraping url: {j}')\n",
    "            url=row[0]\n",
    "            html=get_page_html(url)\n",
    "            time.sleep(0.5)\n",
    "            soup=bp(html,'lxml')\n",
    "            print('HTML fetched successful')\n",
    "            name=get_hotel_name(soup)\n",
    "            id=get_hotel_id(name)\n",
    "            add=get_hotel_address(soup,name)\n",
    "            time.sleep(0.5)\n",
    "            location=get_location(add)\n",
    "            insert_location(id,location)\n",
    "            time.sleep(2)\n",
    "            j+=1"
   ]
  },
  {
   "cell_type": "code",
   "execution_count": null,
   "metadata": {},
   "outputs": [],
   "source": []
  }
 ],
 "metadata": {
  "kernelspec": {
   "display_name": "Python 3",
   "language": "python",
   "name": "python3"
  },
  "language_info": {
   "codemirror_mode": {
    "name": "ipython",
    "version": 3
   },
   "file_extension": ".py",
   "mimetype": "text/x-python",
   "name": "python",
   "nbconvert_exporter": "python",
   "pygments_lexer": "ipython3",
   "version": "3.12.1"
  }
 },
 "nbformat": 4,
 "nbformat_minor": 2
}
