{
 "cells": [
  {
   "cell_type": "code",
   "execution_count": 1,
   "metadata": {},
   "outputs": [],
   "source": [
    "from selenium import webdriver\n",
    "from selenium.webdriver.chrome.options import Options\n",
    "import psycopg2\n",
    "from bs4 import BeautifulSoup as bp\n",
    "import time\n",
    "from selenium.webdriver import ActionChains\n",
    "from selenium.webdriver.common.by import By\n",
    "from shapely.geometry import Point\n",
    "import requests\n",
    "import csv\n"
   ]
  },
  {
   "cell_type": "code",
   "execution_count": 2,
   "metadata": {},
   "outputs": [],
   "source": [
    "import getpass\n",
    "import os\n",
    "\n",
    "postgres_url=getpass.getpass(\"enter your postgresql url: \")\n"
   ]
  },
  {
   "cell_type": "code",
   "execution_count": 3,
   "metadata": {},
   "outputs": [],
   "source": [
    "USER_AGENT = 'Mozilla/5.0 (Windows NT 10.0; Win64; x64) AppleWebKit/537.36 (KHTML, like Gecko) Chrome/127.0.0.0 Safari/537.36'\n",
    "REQUEST_HEADER = {\n",
    "    'User-Agent': USER_AGENT,\n",
    "    'Accept-language': 'vi-vn',\n",
    "}"
   ]
  },
  {
   "cell_type": "code",
   "execution_count": 4,
   "metadata": {},
   "outputs": [],
   "source": [
    "options=Options()\n",
    "options.add_argument(f\"user-agent={USER_AGENT}\")\n",
    "driver=webdriver.Chrome(options=options)"
   ]
  },
  {
   "cell_type": "code",
   "execution_count": 5,
   "metadata": {},
   "outputs": [],
   "source": [
    "driver.get('https://www.google.com/maps')"
   ]
  },
  {
   "cell_type": "code",
   "execution_count": 6,
   "metadata": {},
   "outputs": [],
   "source": [
    "def get_page_html(url):\n",
    "    res = requests.get(url=url, headers=REQUEST_HEADER)\n",
    "    return res.text\n",
    "def get_hotel_name(soup):\n",
    "    name = soup.find('div', class_='css-901oao r-a5wbuh r-1enofrn r-b88u0q r-1cwl3u0 r-fdjqy7 r-3s2u2q')\n",
    "    return name.text.strip() if name else None\n",
    "def get_hotel_address(soup,name):\n",
    "    address = soup.find('div', class_='css-901oao css-cens5h r-13awgt0 r-a5wbuh r-1b43r93 r-majxgm r-rjixqe r-fdjqy7')\n",
    "    if address:\n",
    "        \n",
    "        address_full = address.text.strip().replace('\\t', '')\n",
    "        return address_full\n",
    "    else:\n",
    "        print(f'cannot find address for {name}')\n"
   ]
  },
  {
   "cell_type": "code",
   "execution_count": 7,
   "metadata": {},
   "outputs": [],
   "source": [
    "def get_hotel_id(name):\n",
    "    query=\"\"\"\n",
    "        SELECT hotel_id\n",
    "        FROM hotel\n",
    "        WHERE name ILIKE %s;\"\"\"\n",
    "    conn = psycopg2.connect(postgres_url)\n",
    "    cur = conn.cursor()\n",
    "    cur.execute(\"\"\"SET search_path TO travel_database, public;\"\"\")\n",
    "    cur.execute(query,(name,))\n",
    "    row=cur.fetchone()\n",
    "    hotel_id = row[0]\n",
    "    cur.close()\n",
    "    return hotel_id"
   ]
  },
  {
   "cell_type": "code",
   "execution_count": 8,
   "metadata": {},
   "outputs": [],
   "source": [
    "def insert_db_hotel_price(price,id):\n",
    "    print(f\"insert price into db of room {id}\")\n",
    "    conn = psycopg2.connect(postgres_url)\n",
    "    cur = conn.cursor()\n",
    "    cur.execute(\"\"\"SET search_path TO travel_database, public;\"\"\")\n",
    "    query=\"\"\"\n",
    "    UPDATE Hotelprice SET price = %s\n",
    "    WHERE hotel_id = %s;\"\"\"\n",
    "    cur.execute(query, (price,id))\n",
    "    conn.commit()\n",
    "    cur.close()\n",
    "    conn.close()"
   ]
  },
  {
   "cell_type": "code",
   "execution_count": 15,
   "metadata": {},
   "outputs": [],
   "source": [
    "def get_location(address):\n",
    "    # Click the search box input element\n",
    "    print(f'get location for {address}')\n",
    "    find = driver.find_element(By.XPATH, '//*[@id=\"searchboxinput\"]')\n",
    "    find.click()\n",
    "    find.clear()\n",
    "    time.sleep(2)\n",
    "\n",
    "# Input the address\n",
    "    find.send_keys(address)\n",
    "    time.sleep(2)\n",
    "    button=driver.find_element(By.XPATH,'//*[@id=\"searchbox-searchbutton\"]')\n",
    "    button.click()\n",
    "    time.sleep(5)\n",
    "    current_url=driver.current_url\n",
    "    current_url=current_url.split('/')\n",
    "    current_url\n",
    "    raw_location=current_url[6].split(',')\n",
    "    raw_location\n",
    "    latitude_float=float(raw_location[0].replace('@',''))\n",
    "    longitude_float=float(raw_location[1])\n",
    "# In ra kết quả hoặc lưu vào biến\n",
    "    print(f\"Location: {latitude_float}, {longitude_float}\")\n",
    "    return {'latitude': latitude_float, 'longitude': longitude_float}"
   ]
  },
  {
   "cell_type": "code",
   "execution_count": 10,
   "metadata": {},
   "outputs": [],
   "source": [
    "def insert_location(id,location):\n",
    "    print(f\"insert location {id} into db\")\n",
    "    if isinstance(location, dict) and 'longitude' in location and 'latitude' in location:\n",
    "        point = Point(location['longitude'], location['latitude'])\n",
    "        point_wkt = point.wkt\n",
    "        conn = psycopg2.connect(postgres_url)\n",
    "        cur = conn.cursor()\n",
    "        cur.execute(\"\"\"SET search_path TO travel_database, public;\"\"\")\n",
    "        query=\"\"\"\n",
    "        UPDATE Hotel SET location = ST_GeomFromText(%s, 4326)\n",
    "        WHERE hotel_id = %s;\"\"\"\n",
    "        cur.execute(query, (point_wkt,id))\n",
    "        conn.commit()\n",
    "        cur.close()\n",
    "        conn.close()\n",
    "        print(f\"updated location for {id}\")\n",
    "    else:\n",
    "        print(\"error: location is not dict\")"
   ]
  },
  {
   "cell_type": "code",
   "execution_count": 17,
   "metadata": {},
   "outputs": [
    {
     "name": "stdout",
     "output_type": "stream",
     "text": [
      "hotel_urls_5:\n",
      "scraping url: 1\n",
      "HTML fetched successful\n",
      "get location for 205 Hang Bong street, Hoan Kiem, Hàng Bông, Quận Hoàn Kiếm, Hà Nội, Việt Nam, 10000\n",
      "Location: 21.028905, 105.844508\n",
      "insert location 81 into db\n",
      "updated location for 81\n",
      "scraping url: 2\n",
      "HTML fetched successful\n",
      "get location for 153 Trieu Viet Vuong, Hai Ba Trung, Bùi Thị Xuân, Quận Hai Bà Trưng, Hà Nội, Việt Nam, 100000Xem bản đồ\n",
      "Location: 21.0124186, 105.8505543\n",
      "insert location 82 into db\n",
      "updated location for 82\n",
      "scraping url: 3\n",
      "HTML fetched successful\n",
      "get location for 29 Trang Tien street, Hoan Kiem district, Tràng Tiền, Quận Hoàn Kiếm, Hà Nội, Việt Nam, 10000\n",
      "Location: 21.0244007, 105.8555913\n",
      "insert location 83 into db\n",
      "updated location for 83\n",
      "scraping url: 4\n",
      "HTML fetched successful\n",
      "get location for 16 Phố Nguyễn Quang Bích, Cửa Đông, Quận Hoàn Kiếm, Hà Nội, Việt Nam, 100000\n",
      "Location: 21.03215, 105.845773\n",
      "insert location 84 into db\n",
      "updated location for 84\n",
      "scraping url: 5\n",
      "HTML fetched successful\n",
      "get location for 136 Hàng Trống, Phường Hàng Trống, Quận Hoàn Kiếm, Hà Nội, Việt Nam, 100000\n",
      "Location: 21.0281276, 105.8507523\n",
      "insert location 85 into db\n",
      "updated location for 85\n",
      "scraping url: 6\n",
      "HTML fetched successful\n",
      "get location for 27 Hàng Bè, Lý Thái Tổ, Quận Hoàn Kiếm, Hà Nội, Việt Nam, 100000\n",
      "Location: 21.0331202, 105.8540981\n",
      "insert location 86 into db\n",
      "updated location for 86\n",
      "scraping url: 7\n",
      "HTML fetched successful\n",
      "get location for 56 Nguyễn Chánh, Phường Trung Hoa, Phường Trung Hòa, Quận Cầu Giấy, Hà Nội, Việt Nam, 100000\n",
      "Location: 21.0094656, 105.7945464\n",
      "insert location 87 into db\n",
      "updated location for 87\n",
      "scraping url: 8\n",
      "HTML fetched successful\n",
      "get location for No 8 Do Duc Duc Road, Me Tri Ward, South Tu Liem District, Phường Mễ Trì, Nam Từ Liêm, Hà Nội, Việt Nam\n",
      "Location: 21.007006, 105.7831221\n",
      "insert location 88 into db\n",
      "updated location for 88\n",
      "scraping url: 9\n",
      "HTML fetched successful\n",
      "get location for 33 Đường Thành, Quận Hoàn Kiếm, Cửa Đông, Quận Hoàn Kiếm, Hà Nội, Việt Nam, 100000\n",
      "Location: 21.0332209, 105.8465572\n",
      "insert location 89 into db\n",
      "updated location for 89\n",
      "scraping url: 10\n",
      "HTML fetched successful\n",
      "get location for 106 Hoang Quoc Viet Street, Cau Giay, Nghia Do ward, Quận Cầu Giấy, Hà Nội, Việt Nam, 100000\n",
      "Location: 21.0471845, 105.7954722\n",
      "insert location 90 into db\n",
      "updated location for 90\n",
      "scraping url: 11\n",
      "HTML fetched successful\n",
      "get location for 115 Nguyễn Trường Tộ, Trúc Bạch, Quận Ba Đình, Hà Nội, Việt Nam, 100000\n",
      "Location: 21.0432935, 105.8423548\n",
      "insert location 91 into db\n",
      "updated location for 91\n",
      "scraping url: 12\n",
      "HTML fetched successful\n",
      "get location for 24 Hàng Quạt, Hàng Đào, Quận Hoàn Kiếm, Hà Nội, Việt Nam, 100000\n",
      "Location: 21.0329002, 105.8494075\n",
      "insert location 92 into db\n",
      "updated location for 92\n",
      "scraping url: 13\n",
      "HTML fetched successful\n"
     ]
    },
    {
     "ename": "TypeError",
     "evalue": "'NoneType' object is not subscriptable",
     "output_type": "error",
     "traceback": [
      "\u001b[1;31m---------------------------------------------------------------------------\u001b[0m",
      "\u001b[1;31mTypeError\u001b[0m                                 Traceback (most recent call last)",
      "Cell \u001b[1;32mIn[17], line 14\u001b[0m\n\u001b[0;32m     12\u001b[0m \u001b[38;5;28mprint\u001b[39m(\u001b[38;5;124m'\u001b[39m\u001b[38;5;124mHTML fetched successful\u001b[39m\u001b[38;5;124m'\u001b[39m)\n\u001b[0;32m     13\u001b[0m name\u001b[38;5;241m=\u001b[39mget_hotel_name(soup)\n\u001b[1;32m---> 14\u001b[0m \u001b[38;5;28mid\u001b[39m\u001b[38;5;241m=\u001b[39m\u001b[43mget_hotel_id\u001b[49m\u001b[43m(\u001b[49m\u001b[43mname\u001b[49m\u001b[43m)\u001b[49m\n\u001b[0;32m     15\u001b[0m add\u001b[38;5;241m=\u001b[39mget_hotel_address(soup,name)\n\u001b[0;32m     16\u001b[0m time\u001b[38;5;241m.\u001b[39msleep(\u001b[38;5;241m0.5\u001b[39m)\n",
      "Cell \u001b[1;32mIn[7], line 11\u001b[0m, in \u001b[0;36mget_hotel_id\u001b[1;34m(name)\u001b[0m\n\u001b[0;32m      9\u001b[0m cur\u001b[38;5;241m.\u001b[39mexecute(query,(name,))\n\u001b[0;32m     10\u001b[0m row\u001b[38;5;241m=\u001b[39mcur\u001b[38;5;241m.\u001b[39mfetchone()\n\u001b[1;32m---> 11\u001b[0m hotel_id \u001b[38;5;241m=\u001b[39m \u001b[43mrow\u001b[49m\u001b[43m[\u001b[49m\u001b[38;5;241;43m0\u001b[39;49m\u001b[43m]\u001b[49m\n\u001b[0;32m     12\u001b[0m cur\u001b[38;5;241m.\u001b[39mclose()\n\u001b[0;32m     13\u001b[0m \u001b[38;5;28;01mreturn\u001b[39;00m hotel_id\n",
      "\u001b[1;31mTypeError\u001b[0m: 'NoneType' object is not subscriptable"
     ]
    }
   ],
   "source": [
    "for i in range(5,10):\n",
    "    print(f'hotel_urls_{i}:')\n",
    "    with open(f\"E:/GitHub/random_code/hotel_urls/hotel_urls_{i}.csv\", newline='',encoding='utf-8') as csvfile:\n",
    "        reader = csv.reader(csvfile, delimiter=',')\n",
    "        j=1\n",
    "        for row in reader:\n",
    "            print(f'scraping url: {j}')\n",
    "            url=row[0]\n",
    "            html=get_page_html(url)\n",
    "            time.sleep(0.5)\n",
    "            soup=bp(html,'lxml')\n",
    "            print('HTML fetched successful')\n",
    "            name=get_hotel_name(soup)\n",
    "            id=get_hotel_id(name)\n",
    "            add=get_hotel_address(soup,name)\n",
    "            time.sleep(0.5)\n",
    "            location=get_location(add)\n",
    "            insert_location(id,location)\n",
    "            time.sleep(2)\n",
    "            j+=1"
   ]
  },
  {
   "cell_type": "code",
   "execution_count": null,
   "metadata": {},
   "outputs": [],
   "source": []
  }
 ],
 "metadata": {
  "kernelspec": {
   "display_name": "Python 3",
   "language": "python",
   "name": "python3"
  },
  "language_info": {
   "codemirror_mode": {
    "name": "ipython",
    "version": 3
   },
   "file_extension": ".py",
   "mimetype": "text/x-python",
   "name": "python",
   "nbconvert_exporter": "python",
   "pygments_lexer": "ipython3",
   "version": "3.11.9"
  }
 },
 "nbformat": 4,
 "nbformat_minor": 2
}
