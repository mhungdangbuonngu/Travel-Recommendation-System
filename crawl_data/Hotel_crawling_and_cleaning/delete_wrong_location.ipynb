{
 "cells": [
  {
   "cell_type": "code",
   "execution_count": 3,
   "metadata": {},
   "outputs": [],
   "source": [
    "import psycopg2\n",
    "import time"
   ]
  },
  {
   "cell_type": "code",
   "execution_count": 4,
   "metadata": {},
   "outputs": [],
   "source": [
    "import getpass\n",
    "import os\n",
    "\n",
    "postgres_url = getpass.getpass(\"Enter your postgresql url: \")"
   ]
  },
  {
   "cell_type": "code",
   "execution_count": 1,
   "metadata": {},
   "outputs": [],
   "source": [
    "def insert_db_hotel_price(id):\n",
    "    print(f\"delete location of room {id}\")\n",
    "    conn = psycopg2.connect(postgres_url)\n",
    "    cur = conn.cursor()\n",
    "    cur.execute(\"\"\"SET search_path TO travel_database, public;\"\"\")\n",
    "    query=\"\"\"\n",
    "    UPDATE Hotel SET location = NULL\n",
    "    WHERE hotel_id = %s;\"\"\"\n",
    "    cur.execute(query, (id,))\n",
    "    conn.commit()\n",
    "    cur.close()\n",
    "    conn.close()"
   ]
  },
  {
   "cell_type": "code",
   "execution_count": 5,
   "metadata": {},
   "outputs": [
    {
     "name": "stdout",
     "output_type": "stream",
     "text": [
      "delete location of room 1248\n",
      "delete location of room 2\n",
      "delete location of room 652\n",
      "delete location of room 1252\n",
      "delete location of room 1258\n",
      "delete location of room 35\n",
      "delete location of room 37\n",
      "delete location of room 2526\n",
      "delete location of room 43\n",
      "delete location of room 1268\n",
      "delete location of room 47\n",
      "delete location of room 48\n",
      "delete location of room 1271\n",
      "delete location of room 1285\n",
      "delete location of room 2567\n",
      "delete location of room 59\n",
      "delete location of room 65\n",
      "delete location of room 61\n",
      "delete location of room 1288\n",
      "delete location of room 71\n",
      "delete location of room 72\n",
      "delete location of room 76\n",
      "delete location of room 78\n",
      "delete location of room 86\n"
     ]
    }
   ],
   "source": [
    "id_list=['1248','2','652','1252','1258','35','37','2526','43','1268','47','48','1271','1285','2567','59','65','61','1288','71','72','76','78','86']\n",
    "for id in id_list:\n",
    "    insert_db_hotel_price(id)"
   ]
  },
  {
   "cell_type": "code",
   "execution_count": null,
   "metadata": {},
   "outputs": [],
   "source": []
  }
 ],
 "metadata": {
  "kernelspec": {
   "display_name": "Python 3",
   "language": "python",
   "name": "python3"
  },
  "language_info": {
   "codemirror_mode": {
    "name": "ipython",
    "version": 3
   },
   "file_extension": ".py",
   "mimetype": "text/x-python",
   "name": "python",
   "nbconvert_exporter": "python",
   "pygments_lexer": "ipython3",
   "version": "3.11.9"
  }
 },
 "nbformat": 4,
 "nbformat_minor": 2
}
