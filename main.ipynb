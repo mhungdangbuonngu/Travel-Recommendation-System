{
  "cells": [
    {
      "cell_type": "markdown",
      "metadata": {
        "id": "view-in-github",
        "colab_type": "text"
      },
      "source": [
        "<a href=\"https://colab.research.google.com/github/nkcong206/Travel-Recommendation-System/blob/main/main.ipynb\" target=\"_parent\"><img src=\"https://colab.research.google.com/assets/colab-badge.svg\" alt=\"Open In Colab\"/></a>"
      ]
    },
    {
      "cell_type": "code",
      "source": [
        "!pip install -q langchain-ollama\n",
        "!pip install -q langchain\n",
        "!pip install -q langchain_community\n",
        "!pip install -q sentence-transformers"
      ],
      "metadata": {
        "id": "e8S_I_pK7EKA",
        "outputId": "1042eb9f-da23-4d75-e300-757cb1458d43",
        "colab": {
          "base_uri": "https://localhost:8080/"
        }
      },
      "id": "e8S_I_pK7EKA",
      "execution_count": 1,
      "outputs": [
        {
          "output_type": "stream",
          "name": "stdout",
          "text": [
            "\u001b[2K     \u001b[90m━━━━━━━━━━━━━━━━━━━━━━━━━━━━━━━━━━━━━━━━\u001b[0m \u001b[32m50.4/50.4 kB\u001b[0m \u001b[31m844.1 kB/s\u001b[0m eta \u001b[36m0:00:00\u001b[0m\n",
            "\u001b[2K   \u001b[90m━━━━━━━━━━━━━━━━━━━━━━━━━━━━━━━━━━━━━━━━\u001b[0m \u001b[32m391.5/391.5 kB\u001b[0m \u001b[31m14.2 MB/s\u001b[0m eta \u001b[36m0:00:00\u001b[0m\n",
            "\u001b[2K   \u001b[90m━━━━━━━━━━━━━━━━━━━━━━━━━━━━━━━━━━━━━━━━\u001b[0m \u001b[32m75.6/75.6 kB\u001b[0m \u001b[31m4.1 MB/s\u001b[0m eta \u001b[36m0:00:00\u001b[0m\n",
            "\u001b[2K   \u001b[90m━━━━━━━━━━━━━━━━━━━━━━━━━━━━━━━━━━━━━━━━\u001b[0m \u001b[32m77.9/77.9 kB\u001b[0m \u001b[31m4.2 MB/s\u001b[0m eta \u001b[36m0:00:00\u001b[0m\n",
            "\u001b[2K   \u001b[90m━━━━━━━━━━━━━━━━━━━━━━━━━━━━━━━━━━━━━━━━\u001b[0m \u001b[32m140.4/140.4 kB\u001b[0m \u001b[31m10.2 MB/s\u001b[0m eta \u001b[36m0:00:00\u001b[0m\n",
            "\u001b[2K   \u001b[90m━━━━━━━━━━━━━━━━━━━━━━━━━━━━━━━━━━━━━━━━\u001b[0m \u001b[32m141.9/141.9 kB\u001b[0m \u001b[31m4.2 MB/s\u001b[0m eta \u001b[36m0:00:00\u001b[0m\n",
            "\u001b[2K   \u001b[90m━━━━━━━━━━━━━━━━━━━━━━━━━━━━━━━━━━━━━━━━\u001b[0m \u001b[32m58.3/58.3 kB\u001b[0m \u001b[31m2.7 MB/s\u001b[0m eta \u001b[36m0:00:00\u001b[0m\n",
            "\u001b[2K   \u001b[90m━━━━━━━━━━━━━━━━━━━━━━━━━━━━━━━━━━━━━━━━\u001b[0m \u001b[32m997.8/997.8 kB\u001b[0m \u001b[31m33.3 MB/s\u001b[0m eta \u001b[36m0:00:00\u001b[0m\n",
            "\u001b[2K   \u001b[90m━━━━━━━━━━━━━━━━━━━━━━━━━━━━━━━━━━━━━━━━\u001b[0m \u001b[32m2.3/2.3 MB\u001b[0m \u001b[31m55.9 MB/s\u001b[0m eta \u001b[36m0:00:00\u001b[0m\n",
            "\u001b[2K   \u001b[90m━━━━━━━━━━━━━━━━━━━━━━━━━━━━━━━━━━━━━━━━\u001b[0m \u001b[32m49.2/49.2 kB\u001b[0m \u001b[31m3.5 MB/s\u001b[0m eta \u001b[36m0:00:00\u001b[0m\n",
            "\u001b[2K   \u001b[90m━━━━━━━━━━━━━━━━━━━━━━━━━━━━━━━━━━━━━━━━\u001b[0m \u001b[32m227.1/227.1 kB\u001b[0m \u001b[31m2.8 MB/s\u001b[0m eta \u001b[36m0:00:00\u001b[0m\n",
            "\u001b[?25h"
          ]
        }
      ]
    },
    {
      "cell_type": "code",
      "source": [
        "from langchain_core.prompts import ChatPromptTemplate\n",
        "from langchain_ollama.llms import OllamaLLM\n",
        "from sentence_transformers import SentenceTransformer\n",
        "from sklearn.metrics.pairwise import cosine_similarity\n",
        "import re\n",
        "import json\n",
        "import subprocess\n",
        "import time\n",
        "import threading\n",
        "import psycopg2"
      ],
      "metadata": {
        "id": "JB9tMjo6G3kZ",
        "colab": {
          "base_uri": "https://localhost:8080/"
        },
        "outputId": "40ec0ca3-c746-4cc0-dedf-a08a5ca794bb"
      },
      "id": "JB9tMjo6G3kZ",
      "execution_count": 2,
      "outputs": [
        {
          "output_type": "stream",
          "name": "stderr",
          "text": [
            "/usr/local/lib/python3.10/dist-packages/sentence_transformers/cross_encoder/CrossEncoder.py:11: TqdmExperimentalWarning: Using `tqdm.autonotebook.tqdm` in notebook mode. Use `tqdm.tqdm` instead to force console mode (e.g. in jupyter console)\n",
            "  from tqdm.autonotebook import tqdm, trange\n"
          ]
        }
      ]
    },
    {
      "cell_type": "code",
      "source": [
        "import getpass\n",
        "import os\n",
        "\n",
        "postgres_url = getpass.getpass(\"Enter your postgresql url: \")"
      ],
      "metadata": {
        "id": "yfuY1wGq8sFH",
        "outputId": "46f30ce2-f8c9-443c-9ee2-47af74652f1c",
        "colab": {
          "base_uri": "https://localhost:8080/"
        }
      },
      "id": "yfuY1wGq8sFH",
      "execution_count": 10,
      "outputs": [
        {
          "name": "stdout",
          "output_type": "stream",
          "text": [
            "Enter your postgresql url: ··········\n"
          ]
        }
      ]
    },
    {
      "cell_type": "code",
      "source": [
        "model = SentenceTransformer('bkai-foundation-models/vietnamese-bi-encoder')"
      ],
      "metadata": {
        "colab": {
          "base_uri": "https://localhost:8080/",
          "height": 141
        },
        "id": "Qs063b7AxuAL",
        "outputId": "99ba7735-78ba-42ce-dd22-79c1e011aff7",
        "collapsed": true
      },
      "id": "Qs063b7AxuAL",
      "execution_count": 1,
      "outputs": [
        {
          "output_type": "error",
          "ename": "NameError",
          "evalue": "name 'SentenceTransformer' is not defined",
          "traceback": [
            "\u001b[0;31m---------------------------------------------------------------------------\u001b[0m",
            "\u001b[0;31mNameError\u001b[0m                                 Traceback (most recent call last)",
            "\u001b[0;32m<ipython-input-1-38c0c34f6b33>\u001b[0m in \u001b[0;36m<cell line: 1>\u001b[0;34m()\u001b[0m\n\u001b[0;32m----> 1\u001b[0;31m \u001b[0mmodel\u001b[0m \u001b[0;34m=\u001b[0m \u001b[0mSentenceTransformer\u001b[0m\u001b[0;34m(\u001b[0m\u001b[0;34m'bkai-foundation-models/vietnamese-bi-encoder'\u001b[0m\u001b[0;34m)\u001b[0m\u001b[0;34m\u001b[0m\u001b[0;34m\u001b[0m\u001b[0m\n\u001b[0m",
            "\u001b[0;31mNameError\u001b[0m: name 'SentenceTransformer' is not defined"
          ]
        }
      ]
    },
    {
      "cell_type": "code",
      "source": [
        "!curl https://ollama.ai/install.sh | sh"
      ],
      "metadata": {
        "colab": {
          "base_uri": "https://localhost:8080/"
        },
        "id": "IgR966zH7Hit",
        "outputId": "704a5aea-78c6-405b-df8b-33def12b7e20"
      },
      "id": "IgR966zH7Hit",
      "execution_count": 4,
      "outputs": [
        {
          "output_type": "stream",
          "name": "stdout",
          "text": [
            "  % Total    % Received % Xferd  Average Speed   Time    Time     Time  Current\n",
            "                                 Dload  Upload   Total   Spent    Left  Speed\n",
            "100 13085    0 13085    0     0  32566      0 --:--:-- --:--:-- --:--:-- 32549\n",
            ">>> Installing ollama to /usr/local\n",
            ">>> Downloading Linux amd64 CLI\n",
            "############################################################################################# 100.0%\n",
            ">>> Making ollama accessible in the PATH in /usr/local/bin\n",
            ">>> Creating ollama user...\n",
            ">>> Adding ollama user to video group...\n",
            ">>> Adding current user to ollama group...\n",
            ">>> Creating ollama systemd service...\n",
            "WARNING: Unable to detect NVIDIA/AMD GPU. Install lspci or lshw to automatically detect and install GPU dependencies.\n",
            ">>> The Ollama API is now available at 127.0.0.1:11434.\n",
            ">>> Install complete. Run \"ollama\" from the command line.\n"
          ]
        }
      ]
    },
    {
      "cell_type": "code",
      "source": [
        "# Start the ollama server in a new process\n",
        "process = subprocess.Popen(['ollama', 'serve'], stdout=subprocess.PIPE, stderr=subprocess.PIPE)\n",
        "\n",
        "# Function to print server output\n",
        "def print_output(process):\n",
        "    while True:\n",
        "        output = process.stdout.readline()\n",
        "        if output == b'' and process.poll() is not None:\n",
        "            break\n",
        "        if output:\n",
        "            print(output.strip().decode('utf-8'))\n",
        "        time.sleep(1)\n",
        "\n",
        "# Start a thread to print server output\n",
        "thread = threading.Thread(target=print_output, args=(process,))\n",
        "thread.start()\n",
        "\n",
        "print(\"Ollama server is running in the background\")"
      ],
      "metadata": {
        "colab": {
          "base_uri": "https://localhost:8080/"
        },
        "id": "iMvIN9PP7KKE",
        "outputId": "68ec2c20-4f53-492d-8291-3fee96a92276"
      },
      "id": "iMvIN9PP7KKE",
      "execution_count": 5,
      "outputs": [
        {
          "output_type": "stream",
          "name": "stdout",
          "text": [
            "Ollama server is running in the background\n"
          ]
        }
      ]
    },
    {
      "cell_type": "code",
      "source": [
        "!ollama pull llama3:latest"
      ],
      "metadata": {
        "id": "NOuD1TnT7L_e",
        "collapsed": true
      },
      "id": "NOuD1TnT7L_e",
      "execution_count": null,
      "outputs": []
    },
    {
      "cell_type": "code",
      "source": [
        "llm = OllamaLLM(model=\"llama3:latest\")"
      ],
      "metadata": {
        "id": "Y-rf_2azI6KX"
      },
      "id": "Y-rf_2azI6KX",
      "execution_count": 7,
      "outputs": []
    },
    {
      "cell_type": "markdown",
      "source": [
        "Your task is to extract key information from a travel request.\n",
        "\n",
        "    Request: \"{travel_request}\"\n",
        "\n",
        "    Extract and return the result by vietnamese in the following format:\n",
        "    {{\n",
        "        \"Type\": \"...\",\n",
        "        \"District\": \"...\",\n",
        "        \"City\": \"...\",\n",
        "        \"Number_of_people\": \"...\",\n",
        "        \"Price\": \"...\",\n",
        "        \"Rating\": \"...\",\n",
        "        \"Description\": \"...\"\n",
        "    }}\n",
        "\n",
        "    Ensure that the \"Type\" is one of the following: \"Hotel,\" \"Restaurant,\" or \"TouristAttraction.\" If one or two types are mentioned, return only those. If none are mentioned, include all three types.\n",
        "\n",
        "    For any information not specified in the travel request, return `null`. Ensure that the JSON result is strictly valid JSON, with no extra text, comments, or parentheses.\n",
        "\n",
        "    The \"District\" not include \"quận\" or \"huyện\". The \"City\" not include \"thành phố\" or \"tỉnh\"."
      ],
      "metadata": {
        "id": "Pinn513E7yZQ"
      },
      "id": "Pinn513E7yZQ"
    },
    {
      "cell_type": "code",
      "source": [
        "template = \"\"\"\n",
        "    You are an AI travel suggestion chatbot. Your task is to analyze the Request:\n",
        "\n",
        "    Request: \"{travel_request}\"\n",
        "\n",
        "    Extract the following 7 pieces of information not in any specific order: Type, District, City, Number_of_people, Price, Rating, and Description.\n",
        "    Return the result by vietnamese in the following format:\n",
        "    {{\n",
        "        \"Type\": \"...\",\n",
        "        \"District\": \"...\",\n",
        "        \"City\": \"...\",\n",
        "        \"Number_of_people\": \"...\",\n",
        "        \"Price\": \"...\",\n",
        "        \"Rating\": \"...\",\n",
        "        \"Description\": \"...\"\n",
        "    }}\n",
        "\n",
        "    Ensure that the \"Type\" is one of the following: \"Hotel,\" \"Restaurant,\" or \"TouristAttraction.\" If one or two types are mentioned, return only those. If none are mentioned, include all three types.\n",
        "\n",
        "    For any information not specified in the travel request, return `null`. Ensure that the JSON result is strictly valid JSON, with no extra text, comments, or parentheses.\n",
        "\n",
        "    The \"District\" not include \"quận\" or \"huyện\". The \"City\" not include \"thành phố\" or \"tỉnh\".\n",
        "\n",
        "    The \"Price\" should be an integer. The \"Rating\" should be a float.\n",
        "    \"\"\"\n",
        "prompt = ChatPromptTemplate.from_template(template)\n",
        "chain = prompt | llm"
      ],
      "metadata": {
        "id": "GUzYd7JCHTFr"
      },
      "id": "GUzYd7JCHTFr",
      "execution_count": 8,
      "outputs": []
    },
    {
      "cell_type": "code",
      "source": [
        "query = \"\"\"\n",
        "Gợi ý cho tôi 1 khách sạn ở Cầu Giấy, Hà Nội với chất lượng dịch vụ cao cấp!\n",
        "\"\"\"\n",
        "response = chain.invoke(query)\n",
        "cleaned_json_str = re.search(r'\\{.*?\\}', response, re.DOTALL).group(0)\n",
        "result_dict = json.loads(cleaned_json_str)\n",
        "result_dict"
      ],
      "metadata": {
        "colab": {
          "base_uri": "https://localhost:8080/"
        },
        "id": "5p4MrTCqHT9p",
        "outputId": "4d77de8c-d4e3-411e-ea62-962ede9e3967"
      },
      "id": "5p4MrTCqHT9p",
      "execution_count": 9,
      "outputs": [
        {
          "output_type": "stream",
          "name": "stdout",
          "text": [
            "INFO [main] build info | build=1 commit=\"1e6f655\" tid=\"137848473948160\" timestamp=1724157480\n",
            "INFO [main] system info | n_threads=1 n_threads_batch=-1 system_info=\"AVX = 1 | AVX_VNNI = 0 | AVX2 = 0 | AVX512 = 0 | AVX512_VBMI = 0 | AVX512_VNNI = 0 | AVX512_BF16 = 0 | FMA = 0 | NEON = 0 | SVE = 0 | ARM_FMA = 0 | F16C = 0 | FP16_VA = 0 | WASM_SIMD = 0 | BLAS = 1 | SSE3 = 1 | SSSE3 = 1 | VSX = 0 | MATMUL_INT8 = 0 | LLAMAFILE = 1 | \" tid=\"137848473948160\" timestamp=1724157480 total_threads=2\n",
            "INFO [main] HTTP server listening | hostname=\"127.0.0.1\" n_threads_http=\"6\" port=\"41883\" tid=\"137848473948160\" timestamp=1724157480\n",
            "INFO [main] model loaded | tid=\"137848473948160\" timestamp=1724157494\n"
          ]
        },
        {
          "output_type": "execute_result",
          "data": {
            "text/plain": [
              "{'Type': 'Hotel',\n",
              " 'District': 'Cầu Giấy',\n",
              " 'City': 'Hà Nội',\n",
              " 'Number_of_people': None,\n",
              " 'Price': None,\n",
              " 'Rating': None,\n",
              " 'Description': 'khách sạn với chất lượng dịch vụ cao cấp'}"
            ]
          },
          "metadata": {},
          "execution_count": 9
        },
        {
          "output_type": "stream",
          "name": "stdout",
          "text": [
            "[GIN] 2024/08/20 - 12:38:18 | 200 | 18.100229321s |       127.0.0.1 | POST     \"/api/generate\"\n"
          ]
        }
      ]
    },
    {
      "cell_type": "code",
      "source": [
        "import psycopg2\n",
        "from psycopg2 import sql\n",
        "\n",
        "try:\n",
        "    # Connect to PostgreSQL database\n",
        "    conn = psycopg2.connect(postgres_url)\n",
        "    cur = conn.cursor()\n",
        "    cur.execute(\"CREATE EXTENSION IF NOT EXISTS postgis;\")\n",
        "    conn.commit()\n",
        "\n",
        "    cur.execute(\"\"\"\n",
        "    DROP SCHEMA IF EXISTS travel_database CASCADE;\n",
        "    CREATE SCHEMA IF NOT EXISTS travel_database;\n",
        "    SET search_path TO travel_database, public;  -- Use public where PostGIS is installed\n",
        "\n",
        "    -- Create a custom type for the Address structure\n",
        "    CREATE TYPE Address AS (\n",
        "        street TEXT,\n",
        "        district TEXT,\n",
        "        city TEXT\n",
        "    );\n",
        "\n",
        "    -- Create the Hotel table with an embedding vector column\n",
        "    CREATE TABLE Hotel (\n",
        "        hotel_id SERIAL PRIMARY KEY,\n",
        "        name VARCHAR(255),\n",
        "        address Address,\n",
        "        location GEOMETRY(POINT),  -- PostGIS geography type for location data\n",
        "        rating DECIMAL(2, 1),\n",
        "        description TEXT,\n",
        "        embedding vector(768),  -- Using the vector extension for 768-dimensional embeddings\n",
        "        img_url JSON,\n",
        "        comments JSON\n",
        "    );\n",
        "\n",
        "    -- Create an index on the district of the Address and Rating columns for the Hotel table\n",
        "    CREATE INDEX idx_hotel_address_rating ON Hotel(((address).district), rating);\n",
        "\n",
        "    -- Create the Price table for the Hotel table\n",
        "    CREATE TABLE HotelPrice (\n",
        "        hprice_id SERIAL PRIMARY KEY,\n",
        "        hotel_id INT REFERENCES Hotel(hotel_id) ON DELETE CASCADE,\n",
        "        room_type VARCHAR(255),\n",
        "        capacity INT,\n",
        "        price INT NOT NULL\n",
        "    );\n",
        "\n",
        "    -- Create an index on the hotel_id for the HotelPrice table\n",
        "    -- CREATE INDEX hotel_idx_address_district ON Hotel(((address).district));\n",
        "    -- CREATE INDEX hotel_idx_rating ON Hotel(rating);\n",
        "    -- CREATE INDEX hotel_idx_location ON Hotel USING GIST(location);\n",
        "\n",
        "\n",
        "    -- Create the TouristAttraction table with an embedding vector column\n",
        "    CREATE TABLE TouristAttraction (\n",
        "        attraction_id SERIAL PRIMARY KEY,\n",
        "        name VARCHAR(255),\n",
        "        address Address,\n",
        "        location GEOMETRY(POINT),  -- PostGIS geography type for location data\n",
        "        attraction_type VARCHAR(255),\n",
        "        rating DECIMAL(2, 1),\n",
        "        tour_duration INTERVAL,\n",
        "        description TEXT,\n",
        "        embedding vector(768),  -- Using the vector extension for 768-dimensional embeddings\n",
        "        img_url JSON,\n",
        "        comments JSON\n",
        "    );\n",
        "\n",
        "    -- Create an index on the district of the Address and Rating columns for the TouristAttraction table\n",
        "    -- CREATE INDEX attraction_idx_address_district ON TouristAttraction(((address).district));\n",
        "    -- CREATE INDEX attraction_idx_rating ON TouristAttraction(rating);\n",
        "    -- CREATE INDEX attraction_idx_location ON TouristAttraction USING GIST(location);\n",
        "\n",
        "\n",
        "    -- Create the Price table for the TouristAttraction table\n",
        "    CREATE TABLE AttractionPrice (\n",
        "        aprice_id SERIAL PRIMARY KEY,\n",
        "        attraction_id INT REFERENCES TouristAttraction(attraction_id) ON DELETE CASCADE,\n",
        "        ticket_type VARCHAR(255),\n",
        "        number_people INT,\n",
        "        price INT NOT NULL\n",
        "    );\n",
        "\n",
        "    -- Create an index on the attraction_id for the AttractionPrice table\n",
        "    -- CREATE INDEX idx_attractionprice_attractionid ON AttractionPrice(attraction_id);\n",
        "\n",
        "    -- Create the Restaurant table with an embedding vector column\n",
        "    CREATE TABLE Restaurant (\n",
        "        res_id SERIAL PRIMARY KEY,\n",
        "        name VARCHAR(255),\n",
        "        address Address,\n",
        "        location GEOMETRY(POINT),  -- PostGIS geography type for location data\n",
        "        rating DECIMAL(2, 1),\n",
        "        description TEXT,\n",
        "        embedding vector(768),  -- Using the vector extension for 768-dimensional embeddings\n",
        "        img_url JSON,\n",
        "        comments JSON\n",
        "    );\n",
        "\n",
        "    -- Create an index on the district of the Address and Rating columns for the Restaurant table\n",
        "    -- CREATE INDEX res_idx_address_district ON Restaurant(((address).district));\n",
        "    -- CREATE INDEX res_idx_rating ON Restaurant(rating);\n",
        "    -- CREATE INDEX res_idx_location ON Restaurant USING GIST(location);\n",
        "    \"\"\")\n",
        "    conn.commit()\n",
        "\n",
        "except Exception as e:\n",
        "    print(f\"An error occurred: {e}\")\n",
        "    conn.rollback()\n",
        "\n",
        "finally:\n",
        "    # Close cursor and connection\n",
        "    cur.close()\n",
        "    conn.close()\n"
      ],
      "metadata": {
        "id": "pZR8IuCOFxs_"
      },
      "id": "pZR8IuCOFxs_",
      "execution_count": 11,
      "outputs": []
    },
    {
      "cell_type": "code",
      "source": [
        "conn = psycopg2.connect(postgres_url)\n",
        "# Tạo con trỏ để thực thi các câu lệnh SQL\n",
        "cur = conn.cursor()\n",
        "\n",
        "# Đặt schema hiện tại\n",
        "cur.execute(\"SET search_path TO travel_database;\")\n",
        "\n",
        "# Kiểm tra xem bảng Hotel có tồn tại không\n",
        "cur.execute(\"SELECT * FROM information_schema.tables WHERE table_name = 'hotel';\")\n",
        "if not cur.fetchone():\n",
        "    print(\"Bảng 'Hotel' không tồn tại trong schema 'travel_database'.\")\n",
        "else:\n",
        "# Dữ liệu cần chèn vào bảng Hotel\n",
        "    data_1 = [\n",
        "        ('Grand Hotel', ('123 Main St', 'Ba Đình', 'Hà Nội'), (21.0285, 105.8542), 4.5, 'Luxury hotel with great amenities.', json.dumps([\"https://example.com/image1.jpg\"]), json.dumps([\"asdsadsd\"])),\n",
        "    ]\n",
        "\n",
        "    data_2 = [\n",
        "        ('Elite Suites', ('808 Elite Ave', 'Cầu Giấy', 'Hà Nội'), (21.0295, 105.8552), 4.8, 'Exclusive suites with top-notch services.', json.dumps([\"https://example.com/image11.jpg\"]),json.dumps([\"asdsadsd\"]))\n",
        "    ]\n",
        "\n",
        "    # Chèn dữ liệu vào bảng Hotel\n",
        "    cur.executemany(\"\"\"\n",
        "    INSERT INTO Hotel (Name, Address, Location, Rating, Description, Img_URL, Comments) VALUES (%s, %s, %s, %s, %s, %s, %s)\n",
        "    \"\"\", data_1)\n",
        "\n",
        "    # Cam kết các thay đổi vào cơ sở dữ liệu\n",
        "    conn.commit()\n",
        "\n",
        "    # Chèn dữ liệu bổ sung\n",
        "    cur.executemany(\"\"\"\n",
        "    INSERT INTO Hotel (Name, Address, Location, Rating, Description, Img_URL, Comments) VALUES (%s, %s, %s, %s, %s, %s, %s)\n",
        "    \"\"\", data_2)\n",
        "\n",
        "    # Cam kết các thay đổi vào cơ sở dữ liệu\n",
        "    conn.commit()\n",
        "cur.close()\n",
        "conn.close()"
      ],
      "metadata": {
        "id": "4dXPEGISj34m"
      },
      "id": "4dXPEGISj34m",
      "execution_count": null,
      "outputs": []
    },
    {
      "cell_type": "code",
      "source": [
        "conn = psycopg2.connect(postgres_url)\n",
        "\n",
        "cur = conn.cursor()\n",
        "\n",
        "cur.execute(\"SET search_path TO travel_database;\")\n",
        "\n",
        "result_dict = {\n",
        "    'Type': ['Tourist Attraction'],\n",
        "    'District': \"Ba Đình\",\n",
        "    'City': 'Hà Nội',\n",
        "    'number_of_people': 3,\n",
        "    'Price': None,\n",
        "    'Rating': None,\n",
        "    'Description': None\n",
        "}\n",
        "\n",
        "\n",
        "cur.execute(\"\"\"\n",
        "SELECT\n",
        "    h.HotelID,\n",
        "    h.Name,\n",
        "    (h.Location).Latitude AS Latitude,\n",
        "    (h.Location).Longitude AS Longitude,\n",
        "    h.Rating,\n",
        "    h.Description,\n",
        "    h.Img_URL,\n",
        "    h.Comments,\n",
        "    p.Price,\n",
        "    p.RoomType,\n",
        "    p.Capacity\n",
        "FROM\n",
        "    travel_database.Hotel h\n",
        "JOIN\n",
        "    travel_database.HotelPrice p ON h.HotelID = p.HotelID\n",
        "WHERE\n",
        "    (h.Rating = %s OR %s IS NULL) AND\n",
        "    (p.Price = %s OR %s IS NULL) AND\n",
        "    ((h.Address).district = %s OR %s IS NULL) AND\n",
        "    ((h.Address).city = %s OR %s IS NULL) AND\n",
        "    (h.Description = %s OR %s IS NULL);\n",
        "\"\"\",\n",
        "(\n",
        "    result_dict['Rating'],\n",
        "    result_dict['Rating'],\n",
        "    result_dict['Price'],\n",
        "    result_dict['Price'],\n",
        "    result_dict['District'],\n",
        "    result_dict['District'],\n",
        "    result_dict['City'],\n",
        "    result_dict['City'],\n",
        "    result_dict['Description'],\n",
        "    result_dict['Description']\n",
        "))\n",
        "\n",
        "rows = cur.fetchall()\n",
        "for row in rows:\n",
        "    print(row)\n",
        "cur.close()\n",
        "conn.close()"
      ],
      "metadata": {
        "id": "0KLKgm7oX-ek"
      },
      "id": "0KLKgm7oX-ek",
      "execution_count": null,
      "outputs": []
    },
    {
      "cell_type": "code",
      "source": [
        "conn = psycopg2.connect(postgres_url)\n",
        "cur = conn.cursor()\n",
        "\n",
        "# Đặt schema hiện tại\n",
        "cur.execute(\"SET search_path TO travel_database;\")\n",
        "\n",
        "# Kiểm tra xem bảng Hotel có tồn tại không\n",
        "cur.execute(\"SELECT * FROM information_schema.tables WHERE table_name = 'hotel';\")\n",
        "if not cur.fetchone():\n",
        "    print(\"Bảng 'Hotel' không tồn tại trong schema 'travel_database'.\")\n",
        "else:\n",
        "    result_dict = {\n",
        "    'Type': ['Tourist Attraction'],\n",
        "    'District': \"Cầu Giấy\",\n",
        "    'City': 'Hà Nội',\n",
        "    'number_of_people': 3,\n",
        "    'Price': None,\n",
        "    'Rating': 4.5,\n",
        "    'Description': None\n",
        "    }\n",
        "    # Thực hiện truy vấn SELECT đơn giản để kiểm tra dữ liệu\n",
        "    cur.execute(\"\"\"\n",
        "    SELECT\n",
        "        h.HotelID,\n",
        "        h.Name,\n",
        "        (h.Location).Latitude AS Latitude,\n",
        "        (h.Location).Longitude AS Longitude,\n",
        "        h.Rating,\n",
        "        h.Description,\n",
        "        h.Img_URL,\n",
        "        h.Comments,\n",
        "        p.Price,\n",
        "        p.RoomType,\n",
        "        p.Capacity\n",
        "    FROM\n",
        "        travel_database.Hotel h\n",
        "    JOIN\n",
        "        travel_database.HotelPrice p ON h.HotelID = p.HotelID\n",
        "    WHERE\n",
        "    (h.Rating = %s OR %s IS NULL) AND\n",
        "    ((h.Address).district = %s OR %s IS NULL)\n",
        "    \"\"\",(\n",
        "        result_dict['Rating'],\n",
        "        result_dict['Rating'],\n",
        "        result_dict['District'],\n",
        "        result_dict['District']\n",
        "    ))\n",
        "\n",
        "    # Lấy kết quả và in ra\n",
        "    rows = cur.fetchall()\n",
        "    print(type(rows))\n",
        "    for row in rows:\n",
        "        print(row)\n",
        "\n",
        "cur.close()\n",
        "conn.close()\n"
      ],
      "metadata": {
        "colab": {
          "base_uri": "https://localhost:8080/"
        },
        "id": "HTn8Yfv9Xqzc",
        "outputId": "1edf692a-0b5d-4f84-f56e-c9d9b139323b"
      },
      "id": "HTn8Yfv9Xqzc",
      "execution_count": null,
      "outputs": [
        {
          "output_type": "stream",
          "name": "stdout",
          "text": [
            "<class 'list'>\n",
            "(1, 'Sông Hồng', Decimal('21.028500'), Decimal('105.854200'), Decimal('4.5'), 'Cao cấp', ['https://example.com/image1.jpg'], ['tốt'], 3000000, 'Luxury', 2)\n",
            "(1, 'Sông Hồng', Decimal('21.028500'), Decimal('105.854200'), Decimal('4.5'), 'Cao cấp', ['https://example.com/image1.jpg'], ['tốt'], 1000000, 'Basic', 2)\n"
          ]
        }
      ]
    },
    {
      "cell_type": "code",
      "source": [
        "# Gợi ý cho tôi khách sạn ở Cầu Giấy, Hà Nội chất lượng 5 sao giành cho 2 người giá khoảng 10 triệu đồng với chất lượng dịch vụ cao cấp!\n",
        "query = input(\"Nhập câu truy vấn của bạn: \")"
      ],
      "metadata": {
        "colab": {
          "base_uri": "https://localhost:8080/"
        },
        "id": "3udoiyG3xPp4",
        "outputId": "d7a16230-b57d-424b-84bc-7075b86ec831"
      },
      "id": "3udoiyG3xPp4",
      "execution_count": null,
      "outputs": [
        {
          "name": "stdout",
          "output_type": "stream",
          "text": [
            "Nhập câu truy vấn của bạn: Gợi ý cho tôi khách sạn ở Cầu Giấy, Hà Nội chất lượng 5 sao giành cho 2 người giá khoảng 10 triệu đồng với chất lượng dịch vụ cao cấp!\n"
          ]
        }
      ]
    },
    {
      "cell_type": "code",
      "source": [
        "conn = psycopg2.connect(postgres_url)\n",
        "cur = conn.cursor()\n",
        "\n",
        "cur.execute(\"SET search_path TO travel_database;\")\n",
        "\n",
        "cur.execute(\"SELECT * FROM information_schema.tables WHERE table_name = 'hotel';\")\n",
        "if not cur.fetchone():\n",
        "    print(\"Bảng 'Hotel' không tồn tại trong schema 'travel_database'.\")\n",
        "else:\n",
        "\n",
        "    response = chain.invoke(query)\n",
        "    cleaned_json_str = re.search(r'\\{.*?\\}', response, re.DOTALL).group(0)\n",
        "    result_dict = json.loads(cleaned_json_str)\n",
        "\n",
        "    cur.execute(\"\"\"\n",
        "    SELECT\n",
        "        h.HotelID,\n",
        "        h.Name,\n",
        "        (h.Address).street AS Street,\n",
        "        (h.Address).district AS District,\n",
        "        (h.Address).city AS City,\n",
        "        h.Rating,\n",
        "        h.Description,\n",
        "        h.Comments,\n",
        "        p.Price,\n",
        "        p.RoomType,\n",
        "        p.Capacity\n",
        "    FROM\n",
        "        travel_database.Hotel h\n",
        "    JOIN\n",
        "        travel_database.HotelPrice p ON h.HotelID = p.HotelID\n",
        "    WHERE\n",
        "    ((h.Address).district = %s OR %s IS NULL) AND\n",
        "    ((h.Address).city = %s OR %s IS NULL)\n",
        "    \"\"\",(\n",
        "        result_dict['District'],\n",
        "        result_dict['District'],\n",
        "        result_dict['City'],\n",
        "        result_dict['City']\n",
        "    ))\n",
        "\n",
        "    # Lấy kết quả và so sánh mô tả\n",
        "    rows = cur.fetchall()\n",
        "    descriptions = [row[6] for row in rows]\n",
        "    descriptions_with_info = []\n",
        "\n",
        "    # Mô tả từ result\n",
        "    result_description = result_dict['Description'] if result_dict['Description'] else \"\"\n",
        "    result_embedding = model.encode([result_description])\n",
        "\n",
        "    # So sánh và sắp xếp kết quả\n",
        "    for row in rows:\n",
        "        description = row[6]\n",
        "        embedding = model.encode([description])\n",
        "        similarity = cosine_similarity(result_embedding, embedding)[0][0]\n",
        "        descriptions_with_info.append((row, description, similarity))\n",
        "\n",
        "    # Sắp xếp theo mức độ liên quan giảm dần\n",
        "    descriptions_with_info.sort(key=lambda x: x[2], reverse=True)\n",
        "\n",
        "    print(f\"Yêu cầu người dùng: {query}\")\n",
        "    for info in descriptions_with_info:\n",
        "        row, description, similarity = info\n",
        "        print(f\"HotelID: {row[0]}\")\n",
        "        print(f\"Name: {row[1]}\")\n",
        "        print(f\"Address: {row[2]}, {row[3]}, {row[4]}\")\n",
        "        print(f\"Rating: {row[5]}\")\n",
        "        print(f\"Description: {row[6]}\")\n",
        "        print(f\"Similarity: {similarity:.4f}\")\n",
        "        print(f\"Comments: {row[7]}\")\n",
        "        print(f\"Price: {row[8]}\")\n",
        "        print(f\"RoomType: {row[9]}\")\n",
        "        print(f\"Capacity: {row[10]}\")\n",
        "        print(\"-\" * 40)\n",
        "\n",
        "    print(result_dict)\n",
        "\n",
        "cur.close()\n",
        "conn.close()\n"
      ],
      "metadata": {
        "id": "Zi90S_VuqEPa",
        "outputId": "f0090494-3b41-4625-ec56-349234724728",
        "colab": {
          "base_uri": "https://localhost:8080/"
        }
      },
      "id": "Zi90S_VuqEPa",
      "execution_count": null,
      "outputs": [
        {
          "output_type": "stream",
          "name": "stdout",
          "text": [
            "[GIN] 2024/08/19 - 18:48:28 | 200 |  2.530431198s |       127.0.0.1 | POST     \"/api/generate\"\n",
            "Yêu cầu người dùng: Gợi ý cho tôi khách sạn ở Cầu Giấy, Hà Nội chất lượng 5 sao giành cho 2 người giá khoảng 10 triệu đồng với chất lượng dịch vụ cao cấp!\n",
            "HotelID: 2\n",
            "Name: Tây Sơn\n",
            "Address: 808 Cổ Nhuế, Cầu Giấy, Hà Nội\n",
            "Rating: 4.5\n",
            "Description: Cao cấp\n",
            "Similarity: 0.4342\n",
            "Comments: ['KS này chất']\n",
            "Price: 5000000\n",
            "RoomType: Luxury\n",
            "Capacity: 2\n",
            "----------------------------------------\n",
            "HotelID: 1\n",
            "Name: Sông Hồng\n",
            "Address: 123 PVĐ, Cầu Giấy, Hà Nội\n",
            "Rating: 4.5\n",
            "Description: Bình dân\n",
            "Similarity: 0.1469\n",
            "Comments: ['Cũng bình thường']\n",
            "Price: 3000000\n",
            "RoomType: Luxury\n",
            "Capacity: 2\n",
            "----------------------------------------\n",
            "{'Type': 'Hotel', 'District': 'Cầu Giấy', 'City': 'Hà Nội', 'Number_of_people': '2', 'Price': '10000000', 'Rating': '5', 'Description': 'khách sạn chất lượng cao cấp'}\n"
          ]
        }
      ]
    }
  ],
  "metadata": {
    "kernelspec": {
      "display_name": "Python 3",
      "name": "python3"
    },
    "language_info": {
      "codemirror_mode": {
        "name": "ipython",
        "version": 3
      },
      "file_extension": ".py",
      "mimetype": "text/x-python",
      "name": "python",
      "nbconvert_exporter": "python",
      "pygments_lexer": "ipython3",
      "version": "3.10.12"
    },
    "colab": {
      "provenance": [],
      "include_colab_link": true
    }
  },
  "nbformat": 4,
  "nbformat_minor": 5
}