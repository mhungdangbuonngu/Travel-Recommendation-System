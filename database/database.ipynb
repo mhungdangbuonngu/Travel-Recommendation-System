{
  "nbformat": 4,
  "nbformat_minor": 0,
  "metadata": {
    "colab": {
      "provenance": [],
      "authorship_tag": "ABX9TyMwv4oRm3i64CrBZfUFGHXk",
      "include_colab_link": true
    },
    "kernelspec": {
      "name": "python3",
      "display_name": "Python 3"
    },
    "language_info": {
      "name": "python"
    }
  },
  "cells": [
    {
      "cell_type": "markdown",
      "metadata": {
        "id": "view-in-github",
        "colab_type": "text"
      },
      "source": [
        "<a href=\"https://colab.research.google.com/github/nkcong206/Travel-Recommendation-System/blob/main/database/database.ipynb\" target=\"_parent\"><img src=\"https://colab.research.google.com/assets/colab-badge.svg\" alt=\"Open In Colab\"/></a>"
      ]
    },
    {
      "cell_type": "code",
      "source": [
        "!pip install -q langchain-google-genai"
      ],
      "metadata": {
        "colab": {
          "base_uri": "https://localhost:8080/"
        },
        "id": "zvq9prc4z7Ch",
        "outputId": "00e11ff1-3577-444b-8cc2-675d0e1d4ac7"
      },
      "execution_count": null,
      "outputs": [
        {
          "output_type": "stream",
          "name": "stdout",
          "text": [
            "\u001b[?25l   \u001b[90m━━━━━━━━━━━━━━━━━━━━━━━━━━━━━━━━━━━━━━━━\u001b[0m \u001b[32m0.0/227.1 kB\u001b[0m \u001b[31m?\u001b[0m eta \u001b[36m-:--:--\u001b[0m\r\u001b[2K   \u001b[91m━━━━━━━━━━━━━━\u001b[0m\u001b[90m╺\u001b[0m\u001b[90m━━━━━━━━━━━━━━━━━━━━━━━━━\u001b[0m \u001b[32m81.9/227.1 kB\u001b[0m \u001b[31m3.1 MB/s\u001b[0m eta \u001b[36m0:00:01\u001b[0m\r\u001b[2K   \u001b[90m━━━━━━━━━━━━━━━━━━━━━━━━━━━━━━━━━━━━━━━━\u001b[0m \u001b[32m227.1/227.1 kB\u001b[0m \u001b[31m3.3 MB/s\u001b[0m eta \u001b[36m0:00:00\u001b[0m\n",
            "\u001b[?25h"
          ]
        }
      ]
    },
    {
      "cell_type": "code",
      "execution_count": null,
      "metadata": {
        "id": "3HhNYX0hjTON"
      },
      "outputs": [],
      "source": [
        "import psycopg2\n",
        "import json\n",
        "import getpass\n",
        "import os"
      ]
    },
    {
      "cell_type": "code",
      "source": [
        "postgres_url = getpass.getpass(\"Enter your postgresql url: \")"
      ],
      "metadata": {
        "id": "4DwhwwY_lvB7",
        "colab": {
          "base_uri": "https://localhost:8080/"
        },
        "outputId": "6d23d4ba-6add-4569-c174-e18805888afd"
      },
      "execution_count": null,
      "outputs": [
        {
          "name": "stdout",
          "output_type": "stream",
          "text": [
            "Enter your postgresql url: ··········\n"
          ]
        }
      ]
    },
    {
      "cell_type": "code",
      "source": [
        "os.environ[\"GOOGLE_API_KEY\"] = getpass.getpass(\"Enter your Google AI API key: \")"
      ],
      "metadata": {
        "colab": {
          "base_uri": "https://localhost:8080/"
        },
        "id": "faW_sgdjyEOm",
        "outputId": "9bfd9d68-4823-4101-f478-90d43da46f0c"
      },
      "execution_count": null,
      "outputs": [
        {
          "name": "stdout",
          "output_type": "stream",
          "text": [
            "Enter your Google AI API key: ··········\n"
          ]
        }
      ]
    },
    {
      "cell_type": "code",
      "source": [
        "from langchain_google_genai import ChatGoogleGenerativeAI\n",
        "\n",
        "llm = ChatGoogleGenerativeAI(\n",
        "    model=\"gemini-1.5-flash\",\n",
        "    temperature=0,\n",
        "    max_tokens=None,\n",
        "    timeout=None,\n",
        "    max_retries=2,\n",
        ")"
      ],
      "metadata": {
        "id": "BNCylNIyyIAH"
      },
      "execution_count": null,
      "outputs": []
    },
    {
      "cell_type": "code",
      "source": [
        "conn = psycopg2.connect(postgres_url)\n",
        "cur = conn.cursor()\n",
        "\n",
        "cur.execute(\"CREATE EXTENSION IF NOT EXISTS postgis;\")\n",
        "cur.execute(\"CREATE EXTENSION IF NOT EXISTS vector;\")\n",
        "conn.commit()\n",
        "\n",
        "cur.execute(\"\"\"\n",
        "DROP SCHEMA IF EXISTS travel_database CASCADE;\n",
        "CREATE SCHEMA IF NOT EXISTS travel_database;\n",
        "SET search_path TO travel_database, public;\n",
        "\n",
        "-- Create a custom type for the Address structure\n",
        "CREATE TYPE Address AS (\n",
        "    street TEXT,\n",
        "    district TEXT,\n",
        "    city TEXT\n",
        ");\n",
        "\n",
        "CREATE TYPE OpeningHours AS (\n",
        "    open_time TIME WITH TIME ZONE,\n",
        "    close_time TIME WITH TIME ZONE\n",
        ");\n",
        "\n",
        "-- Create the Hotel table with an embedding vector column\n",
        "CREATE TABLE Hotel (\n",
        "    hotel_id SERIAL PRIMARY KEY,\n",
        "    name VARCHAR(255),\n",
        "    address Address,\n",
        "    location GEOMETRY(POINT),\n",
        "    amenities TEXT[ ],\n",
        "    style TEXT,\n",
        "    rating DECIMAL(2, 1),\n",
        "    description TEXT,\n",
        "    img_url JSON,\n",
        "    comments JSON\n",
        ");\n",
        "\n",
        "-- Create an index on the district of the Address and Rating columns for the Hotel table\n",
        "-- CREATE INDEX idx_hotel_address_rating ON Hotel(((address).district), rating);\n",
        "\n",
        "-- Create the Price table for the Hotel table\n",
        "CREATE TABLE HotelPrice (\n",
        "    hprice_id SERIAL PRIMARY KEY,\n",
        "    hotel_id INT REFERENCES Hotel(hotel_id) ON DELETE CASCADE,\n",
        "    room_type VARCHAR(255),\n",
        "    capacity INT,\n",
        "    price INT NOT NULL\n",
        ");\n",
        "\n",
        "-- Create an index on the hotel_id for the HotelPrice table\n",
        "-- CREATE INDEX hotel_idx_address_district ON Hotel(((address).district));\n",
        "-- CREATE INDEX hotel_idx_rating ON Hotel(rating);\n",
        "-- CREATE INDEX hotel_idx_location ON Hotel USING GIST(location);\n",
        "\n",
        "-- Create the TouristAttraction table with an embedding vector column\n",
        "CREATE TABLE TouristAttraction (\n",
        "    attraction_id SERIAL PRIMARY KEY,\n",
        "    name VARCHAR(255),\n",
        "    address Address,\n",
        "    location GEOMETRY(POINT),\n",
        "    attraction_type VARCHAR(255),\n",
        "    working_hour OpeningHours,\n",
        "    rating DECIMAL(2, 1),\n",
        "    tour_duration INTERVAL,\n",
        "    description TEXT,\n",
        "    img_url JSON,\n",
        "    comments JSON\n",
        ");\n",
        "\n",
        "-- Create an index on the district of the Address and Rating columns for the TouristAttraction table\n",
        "-- CREATE INDEX attraction_idx_address_district ON TouristAttraction(((address).district));\n",
        "-- CREATE INDEX attraction_idx_rating ON TouristAttraction(rating);\n",
        "-- CREATE INDEX attraction_idx_location ON TouristAttraction USING GIST(location);\n",
        "\n",
        "-- Create the Price table for the TouristAttraction table\n",
        "CREATE TABLE AttractionPrice (\n",
        "    aprice_id SERIAL PRIMARY KEY,\n",
        "    attraction_id INT REFERENCES TouristAttraction(attraction_id) ON DELETE CASCADE,\n",
        "    ticket_type VARCHAR(255),\n",
        "    number_people INT,\n",
        "    price INT NOT NULL\n",
        ");\n",
        "\n",
        "-- Create an index on the attraction_id for the AttractionPrice table\n",
        "-- CREATE INDEX idx_attractionprice_attractionid ON AttractionPrice(attraction_id);\n",
        "\n",
        "-- Create the Restaurant table with an embedding vector column\n",
        "CREATE TABLE Restaurant (\n",
        "    res_id SERIAL PRIMARY KEY,\n",
        "    name VARCHAR(255),\n",
        "    address Address,\n",
        "    location GEOMETRY(POINT),\n",
        "    working_hour OpeningHours,\n",
        "    suitable_for TEXT[],\n",
        "    restaurant_type TEXT[],\n",
        "    rating DECIMAL(2, 1),\n",
        "    description TEXT,\n",
        "    parking_available BOOLEAN NOT NULL,\n",
        "    kids_play_area BOOLEAN NOT NULL,\n",
        "    img_url JSON,\n",
        "    comments JSON\n",
        ");\n",
        "\n",
        "-- Create an index on the district of the Address and Rating columns for the Restaurant table\n",
        "-- CREATE INDEX res_idx_address_district ON Restaurant(((address).district));\n",
        "-- CREATE INDEX res_idx_rating ON Restaurant(rating);\n",
        "-- CREATE INDEX res_idx_location ON Restaurant USING GIST(location);\n",
        "\n",
        "\"\"\")\n",
        "conn.commit()\n",
        "cur.close()\n",
        "conn.close()"
      ],
      "metadata": {
        "id": "w6IYa9_Kll7g"
      },
      "execution_count": null,
      "outputs": []
    },
    {
      "cell_type": "markdown",
      "source": [
        "Luxury,\n",
        "Eco-friendly,\n",
        "Boutique,\n",
        "Beachfront,\n",
        "Family-friendly,\n",
        "Business,\n",
        "Romantic,\n",
        "Cultural,\n",
        "Wellness,\n",
        "Adventure\n"
      ],
      "metadata": {
        "id": "je4HBI969OrK"
      }
    },
    {
      "cell_type": "code",
      "source": [
        "import base64, httpx\n",
        "from langchain_core.messages import HumanMessage"
      ],
      "metadata": {
        "id": "PWyAQzHLCbo2"
      },
      "execution_count": null,
      "outputs": []
    },
    {
      "cell_type": "code",
      "source": [
        "def get_hotel_styles(data_img):\n",
        "    image_url = data_img[\"img_url\"][:4]\n",
        "    image_data = base64.b64encode(httpx.get(image_url[0]).content).decode(\"utf-8\")\n",
        "\n",
        "    prompt = \"Identify the hotel theme from the images. Return only one theme, and it must be one of the following: 'Luxury', 'Eco-friendly', 'Boutique', 'Beachfront', 'Family-friendly', 'Business', 'Romantic', 'Cultural', 'Wellness', or 'Adventure'. Do not provide any other information.\"\n",
        "\n",
        "    content=[\n",
        "            {\"type\": \"text\", \"text\": prompt},\n",
        "            {\n",
        "                \"type\": \"image_url\",\n",
        "                \"image_url\": {\"url\": f\"data:image/jpeg;base64,{image_data}\"},\n",
        "            },\n",
        "        ]\n",
        "\n",
        "    message = HumanMessage(\n",
        "        content=content\n",
        "    )\n",
        "    respone = llm.invoke([message])\n",
        "    return respone.content"
      ],
      "metadata": {
        "id": "VUr5grgC0-Hx"
      },
      "execution_count": null,
      "outputs": []
    },
    {
      "cell_type": "code",
      "source": [
        "name = 'Khách sạn Hàng Bông'\n",
        "address = ('Số 71 Hàng Bông', 'Hoàn Kiếm', 'Hà Nội')\n",
        "location = 'SRID=4326;POINT(105.8514 21.0285)'\n",
        "rating = 4.5\n",
        "description = 'Khách sạn Hàng Bông cung cấp dịch vụ chất lượng với vị trí trung tâm thành phố.'\n",
        "#embedding = get_embedding(description)\n",
        "img_data = {\n",
        "  \"img_url\": [\n",
        "    \"https://ik.imagekit.io/tvlk/apr-asset/Ixf4aptF5N2Qdfmh4fGGYhTN274kJXuNMkUAzpL5HuD9jzSxIGG5kZNhhHY-p7nw/hotel/asset/20050636-b02da2d82245b290beb4e8284828bee4.jpeg?_src=imagekit&tr=c-at_max,f-jpg,fo-auto,h-332,pr-true,q-80,w-480\",\n",
        "    \"https://ik.imagekit.io/tvlk/apr-asset/dgXfoyh24ryQLRcGq00cIdKHRmotrWLNlvG-TxlcLxGkiDwaUSggleJNPRgIHCX6/hotel/asset/20050636-cf4c5a5936cc908a23f44ee54f253675.jpeg?_src=imagekit&tr=c-at_max,f-jpg,fo-auto,h-162,pr-true,q-80,w-184\",\n",
        "    \"https://ik.imagekit.io/tvlk/apr-asset/dgXfoyh24ryQLRcGq00cIdKHRmotrWLNlvG-TxlcLxGkiDwaUSggleJNPRgIHCX6/hotel/asset/20050636-83c0454f27ab5d93f791429f5b83d9f4.jpeg?_src=imagekit&tr=c-at_max,f-jpg,fo-auto,h-162,pr-true,q-80,w-184\",\n",
        "    \"https://ik.imagekit.io/tvlk/apr-asset/dgXfoyh24ryQLRcGq00cIdKHRmotrWLNlvG-TxlcLxGkiDwaUSggleJNPRgIHCX6/hotel/asset/20050636-3e122262768cd4fe06a7a17b3757d032.jpeg?_src=imagekit&tr=c-at_max,f-jpg,fo-auto,h-162,pr-true,q-80,w-184\",\n",
        "    \"https://ik.imagekit.io/tvlk/apr-asset/dgXfoyh24ryQLRcGq00cIdKHRmotrWLNlvG-TxlcLxGkiDwaUSggleJNPRgIHCX6/hotel/asset/20050636-3597c1d5421f98dbb8c11e51b237cd86.jpeg?_src=imagekit&tr=c-at_max,f-jpg,fo-auto,h-162,pr-true,q-80,w-184\",\n",
        "    \"https://ik.imagekit.io/tvlk/apr-asset/dgXfoyh24ryQLRcGq00cIdKHRmotrWLNlvG-TxlcLxGkiDwaUSggleJNPRgIHCX6/hotel/asset/20050636-bf7ba822dd643b6dab0fac5ff8fcf1e9.jpeg?_src=imagekit&tr=c-at_max,f-jpg,fo-auto,h-162,pr-true,q-80,w-184\",\n",
        "    \"https://ik.imagekit.io/tvlk/apr-asset/dgXfoyh24ryQLRcGq00cIdKHRmotrWLNlvG-TxlcLxGkiDwaUSggleJNPRgIHCX6/hotel/asset/20050636-d27cac252faae8e0117924f6bec68a1c.jpeg?_src=imagekit&tr=c-at_max,f-jpg,fo-auto,h-162,pr-true,q-80,w-184\"\n",
        "  ]\n",
        "}\n",
        "amenities = [\n",
        "    \"Bồn tắm\",\n",
        "    \"Truyền hình cáp\",\n",
        "    \"Minibar\",\n",
        "    \"Nhân viên xách hành lý\",\n",
        "    \"Thức uống chào mừng miễn phí\",\n",
        "    \"Dịch vụ giặt ủi\",\n",
        "    \"Dịch vụ lưu trữ hành lý\",\n",
        "    \"Khu vực hút thuốc\",\n",
        "    \"Thang máy\",\n",
        "    \"Bữa sáng\",\n",
        "    \"Bữa sáng món tự chọn\",\n",
        "    \"Mát-xa\",\n",
        "    \"Wifi\",\n",
        "    \"Đưa đón sân bay\"\n",
        "]\n",
        "img_url = json.dumps(img_data)\n",
        "style = get_hotel_styles(img_data)\n",
        "comments = json.dumps({\n",
        "    \"comments\": [\n",
        "        {\"id\": 1, \"text\": \"Nhân viên lễ tân rất thân thiện và nhiệt tình hỗ trợ khách hàng. Sảnh chào mát, sạch sẽ và thơm. Phòng ở tiện nghi sạch đẹp. Vị trí khách sạn rất thuận tiện.\"},\n",
        "        {\"id\": 2, \"text\": \"Khá là ok, nhưng ae giặt đồ thì tìm quán nhé\"},\n",
        "        {\"id\": 3, \"text\": \"Phòng rất đẹp. Mình rất ưng ý. Gia cả hợp ly\"}\n",
        "    ]\n",
        "})"
      ],
      "metadata": {
        "id": "bZcAqOEDDXXi"
      },
      "execution_count": null,
      "outputs": []
    },
    {
      "cell_type": "code",
      "source": [
        "conn = psycopg2.connect(postgres_url)\n",
        "cur = conn.cursor()\n",
        "cur.execute(\"\"\"SET search_path TO travel_database, public;\"\"\")\n",
        "# Thực hiện câu lệnh INSERT\n",
        "cur.execute(\"\"\"\n",
        "    INSERT INTO Hotel (name, address, location, amenities, style, rating, description, img_url, comments)\n",
        "    VALUES (%s, ROW(%s, %s, %s), ST_GeomFromText(%s, 4326), %s, %s, %s, %s, %s, %s);\n",
        "\"\"\", (name, address[0], address[1], address[2], location, amenities, style, rating, description, img_url, comments))\n",
        "\n",
        "# Commit và đóng kết nối\n",
        "conn.commit()\n",
        "cur.close()\n",
        "conn.close()"
      ],
      "metadata": {
        "id": "QGhhUdQNDaKs"
      },
      "execution_count": null,
      "outputs": []
    }
  ]
}