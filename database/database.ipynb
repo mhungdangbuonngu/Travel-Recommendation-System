{
  "nbformat": 4,
  "nbformat_minor": 0,
  "metadata": {
    "colab": {
      "provenance": [],
      "authorship_tag": "ABX9TyN5jJhVP9W1iHiV3NPbIbc3",
      "include_colab_link": true
    },
    "kernelspec": {
      "name": "python3",
      "display_name": "Python 3"
    },
    "language_info": {
      "name": "python"
    }
  },
  "cells": [
    {
      "cell_type": "markdown",
      "metadata": {
        "id": "view-in-github",
        "colab_type": "text"
      },
      "source": [
        "<a href=\"https://colab.research.google.com/github/nkcong206/Travel-Recommendation-System/blob/main/database/database.ipynb\" target=\"_parent\"><img src=\"https://colab.research.google.com/assets/colab-badge.svg\" alt=\"Open In Colab\"/></a>"
      ]
    },
    {
      "cell_type": "code",
      "source": [
        "!pip install -q sentence-transformers\n"
      ],
      "metadata": {
        "id": "m56FKFMlkvgS"
      },
      "execution_count": null,
      "outputs": []
    },
    {
      "cell_type": "code",
      "execution_count": null,
      "metadata": {
        "id": "3HhNYX0hjTON"
      },
      "outputs": [],
      "source": [
        "import psycopg2\n",
        "from sentence_transformers import SentenceTransformer\n",
        "import json"
      ]
    },
    {
      "cell_type": "code",
      "source": [
        "import getpass\n",
        "import os\n",
        "\n",
        "postgres_url = getpass.getpass(\"Enter your postgresql url: \")"
      ],
      "metadata": {
        "id": "4DwhwwY_lvB7"
      },
      "execution_count": null,
      "outputs": []
    },
    {
      "cell_type": "code",
      "source": [
        "model = SentenceTransformer('bkai-foundation-models/vietnamese-bi-encoder')"
      ],
      "metadata": {
        "id": "vvWVny3RkqUz"
      },
      "execution_count": null,
      "outputs": []
    },
    {
      "cell_type": "code",
      "source": [
        "# Connect to PostgreSQL database\n",
        "conn = psycopg2.connect(postgres_url)\n",
        "cur = conn.cursor()\n",
        "cur.execute(\"CREATE EXTENSION IF NOT EXISTS postgis;\")\n",
        "conn.commit()\n",
        "\n",
        "cur.execute(\"\"\"\n",
        "DROP SCHEMA IF EXISTS travel_database CASCADE;\n",
        "CREATE SCHEMA IF NOT EXISTS travel_database;\n",
        "SET search_path TO travel_database, public;  -- Use public where PostGIS is installed\n",
        "\n",
        "-- Create a custom type for the Address structure\n",
        "CREATE TYPE Address AS (\n",
        "    street TEXT,\n",
        "    district TEXT,\n",
        "    city TEXT\n",
        ");\n",
        "\n",
        "-- Create the Hotel table with an embedding vector column\n",
        "CREATE TABLE Hotel (\n",
        "    hotel_id SERIAL PRIMARY KEY,\n",
        "    name VARCHAR(255),\n",
        "    address Address,\n",
        "    location GEOMETRY(POINT),  -- PostGIS geography type for location data\n",
        "    rating DECIMAL(2, 1),\n",
        "    description TEXT,\n",
        "    embedding_description vector(768),  -- Using the vector extension for 768-dimensional embeddings\n",
        "    img_url JSON,\n",
        "    comments JSON\n",
        ");\n",
        "\n",
        "-- Create an index on the district of the Address and Rating columns for the Hotel table\n",
        "CREATE INDEX idx_hotel_address_rating ON Hotel(((address).district), rating);\n",
        "\n",
        "-- Create the Price table for the Hotel table\n",
        "CREATE TABLE HotelPrice (\n",
        "    hprice_id SERIAL PRIMARY KEY,\n",
        "    hotel_id INT REFERENCES Hotel(hotel_id) ON DELETE CASCADE,\n",
        "    room_type VARCHAR(255),\n",
        "    capacity INT,\n",
        "    price INT NOT NULL\n",
        ");\n",
        "\n",
        "-- Create an index on the hotel_id for the HotelPrice table\n",
        "-- CREATE INDEX hotel_idx_address_district ON Hotel(((address).district));\n",
        "-- CREATE INDEX hotel_idx_rating ON Hotel(rating);\n",
        "-- CREATE INDEX hotel_idx_location ON Hotel USING GIST(location);\n",
        "\n",
        "\n",
        "-- Create the TouristAttraction table with an embedding vector column\n",
        "CREATE TABLE TouristAttraction (\n",
        "    attraction_id SERIAL PRIMARY KEY,\n",
        "    name VARCHAR(255),\n",
        "    address Address,\n",
        "    location GEOMETRY(POINT),  -- PostGIS geography type for location data\n",
        "    attraction_type VARCHAR(255),\n",
        "    rating DECIMAL(2, 1),\n",
        "    tour_duration INTERVAL,\n",
        "    description TEXT,\n",
        "    embedding_description vector(768),  -- Using the vector extension for 768-dimensional embeddings\n",
        "    img_url JSON,\n",
        "    comments JSON\n",
        ");\n",
        "\n",
        "-- Create an index on the district of the Address and Rating columns for the TouristAttraction table\n",
        "-- CREATE INDEX attraction_idx_address_district ON TouristAttraction(((address).district));\n",
        "-- CREATE INDEX attraction_idx_rating ON TouristAttraction(rating);\n",
        "-- CREATE INDEX attraction_idx_location ON TouristAttraction USING GIST(location);\n",
        "\n",
        "\n",
        "-- Create the Price table for the TouristAttraction table\n",
        "CREATE TABLE AttractionPrice (\n",
        "    aprice_id SERIAL PRIMARY KEY,\n",
        "    attraction_id INT REFERENCES TouristAttraction(attraction_id) ON DELETE CASCADE,\n",
        "    ticket_type VARCHAR(255),\n",
        "    number_people INT,\n",
        "    price INT NOT NULL\n",
        ");\n",
        "\n",
        "-- Create an index on the attraction_id for the AttractionPrice table\n",
        "-- CREATE INDEX idx_attractionprice_attractionid ON AttractionPrice(attraction_id);\n",
        "\n",
        "-- Create the Restaurant table with an embedding vector column\n",
        "CREATE TABLE Restaurant (\n",
        "    res_id SERIAL PRIMARY KEY,\n",
        "    name VARCHAR(255),\n",
        "    address Address,\n",
        "    location GEOMETRY(POINT),  -- PostGIS geography type for location data\n",
        "    rating DECIMAL(2, 1),\n",
        "    description TEXT,\n",
        "    embedding_description vector(768),  -- Using the vector extension for 768-dimensional embeddings\n",
        "    img_url JSON,\n",
        "    comments JSON\n",
        ");\n",
        "\n",
        "-- Create an index on the district of the Address and Rating columns for the Restaurant table\n",
        "-- CREATE INDEX res_idx_address_district ON Restaurant(((address).district));\n",
        "-- CREATE INDEX res_idx_rating ON Restaurant(rating);\n",
        "-- CREATE INDEX res_idx_location ON Restaurant USING GIST(location);\n",
        "\"\"\")\n",
        "conn.commit()\n",
        "cur.close()\n",
        "conn.close()"
      ],
      "metadata": {
        "id": "w6IYa9_Kll7g"
      },
      "execution_count": null,
      "outputs": []
    },
    {
      "cell_type": "code",
      "source": [
        "def get_embedding(text):\n",
        "    \"\"\"Trả về embedding của văn bản sử dụng mô hình SentenceTransformer.\"\"\"\n",
        "    embedding = model.encode(text)\n",
        "    return embedding.tolist()\n",
        "\n",
        "# Dữ liệu mẫu\n",
        "hotels = [\n",
        "    (\"Khách sạn A\", \"Khách sạn cao cấp gần trung tâm Hà Nội, với các tiện nghi hiện đại và dịch vụ khách hàng xuất sắc.\", 4.5),\n",
        "    (\"Khách sạn B\", \"Khách sạn tiện nghi và thoải mái, lý tưởng cho những ai tìm kiếm sự yên tĩnh và thư giãn sau một ngày dài.\", 3.8),\n",
        "    (\"Khách sạn C\", \"Khách sạn giá rẻ nhưng chất lượng tốt, phù hợp cho các du khách với ngân sách hạn chế.\", 4.2),\n",
        "    (\"Khách sạn D\", \"Khách sạn sang trọng với dịch vụ 5 sao, bao gồm spa, bể bơi và nhà hàng cao cấp.\", 4.9),\n",
        "    (\"Khách sạn E\", \"Khách sạn gần sân bay và thuận tiện di chuyển, cung cấp dịch vụ đưa đón và hỗ trợ 24/7.\", 4.1)\n",
        "]\n",
        "\n",
        "attractions = [\n",
        "    (\"Tháp Rùa\", \"Một biểu tượng nổi tiếng của Hà Nội, nằm trên hồ Hoàn Kiếm, rất phổ biến với du khách và người dân địa phương.\", \"Di tích lịch sử và điểm tham quan nổi bật\", 4.7),\n",
        "    (\"Chùa Một Cột\", \"Chùa cổ kính với kiến trúc độc đáo, nổi tiếng với hình dáng như một bông sen và nằm trên một cột duy nhất.\", \"Di tích văn hóa và tâm linh\", 4.6),\n",
        "    (\"Lăng Bác\", \"Lăng chủ tịch Hồ Chí Minh, nơi lưu giữ di hài của Hồ Chí Minh, một điểm đến quan trọng và thiêng liêng ở Hà Nội.\", \"Nơi thờ cúng và lưu giữ di sản\", 4.8),\n",
        "    (\"Văn Miếu Quốc Tử Giám\", \"Trường đại học cổ xưa nhất của Việt Nam, nơi thờ các vị hiền triết và là một biểu tượng của giáo dục truyền thống.\", \"Di tích giáo dục và văn hóa\", 4.9),\n",
        "    (\"Hồ Tây\", \"Hồ lớn nhất tại Hà Nội, là nơi lý tưởng cho các hoạt động giải trí, đi dạo và thư giãn bên bờ hồ xanh mát.\", \"Khu vực giải trí và thư giãn\", 4.4)\n",
        "]\n",
        "\n",
        "restaurants = [\n",
        "    (\"Nhà hàng A\", \"Nhà hàng phục vụ các món ăn địa phương với hương vị đậm đà, nổi tiếng với món bún chả và phở.\", 4.2),\n",
        "    (\"Nhà hàng B\", \"Nhà hàng phục vụ món Âu và Á, với thực đơn đa dạng và phong cách ẩm thực quốc tế.\", 3.9),\n",
        "    (\"Nhà hàng C\", \"Nhà hàng hải sản tươi ngon, chuyên cung cấp các món hải sản tươi sống và món đặc sản vùng biển.\", 4.3),\n",
        "    (\"Nhà hàng D\", \"Nhà hàng sang trọng với không gian ấm cúng, phù hợp cho các bữa tối lãng mạn và sự kiện đặc biệt.\", 4.6),\n",
        "    (\"Nhà hàng E\", \"Nhà hàng nhanh và tiện lợi, phục vụ các món ăn nhanh và đồ uống, lý tưởng cho bữa trưa gọn gàng.\", 4.0)\n",
        "]\n",
        "\n",
        "\n",
        "# Kết nối đến cơ sở dữ liệu PostgreSQL\n",
        "conn = psycopg2.connect(postgres_url)\n",
        "cur = conn.cursor()\n",
        "cur.execute(\"\"\"SET search_path TO travel_database, public;\"\"\")\n",
        "\n",
        "# Chèn dữ liệu vào bảng Hotel\n",
        "for name, description, rating in hotels:\n",
        "    embedding = get_embedding(description)\n",
        "    cur.execute(\"\"\"\n",
        "        INSERT INTO Hotel (name, address, location, rating, description, embedding_description, img_url, comments)\n",
        "        VALUES (%s, ROW('0', 'Cầu Giấy', 'Hà Nội'), ST_Point(105.8498, 21.0285), %s, %s, %s, %s, %s);\n",
        "    \"\"\", (name, rating, description, embedding, json.dumps({\"img\": \"url\"}), json.dumps({\"comments\": \"none\"})))\n",
        "\n",
        "# Chèn dữ liệu vào bảng TouristAttraction\n",
        "for name, description, attraction_type, rating in attractions:\n",
        "    embedding = get_embedding(description)\n",
        "    cur.execute(\"\"\"\n",
        "        INSERT INTO TouristAttraction (name, address, location, attraction_type, rating, tour_duration, description, embedding_description, img_url, comments)\n",
        "        VALUES (%s, ROW('0', 'Cầu Giấy', 'Hà Nội'), ST_Point(105.8498, 21.0285), %s, %s, NULL, %s, %s, %s, %s);\n",
        "    \"\"\", (name, attraction_type, rating, description, embedding, json.dumps({\"img\": \"url\"}), json.dumps({\"comments\": \"none\"})))\n",
        "\n",
        "# Chèn dữ liệu vào bảng Restaurant\n",
        "for name, description, rating in restaurants:\n",
        "    embedding = get_embedding(description)\n",
        "    cur.execute(\"\"\"\n",
        "        INSERT INTO Restaurant (name, address, location, rating, description, embedding_description, img_url, comments)\n",
        "        VALUES (%s, ROW('0', 'Cầu Giấy', 'Hà Nội'), ST_Point(105.8498, 21.0285), %s, %s, %s, %s, %s);\n",
        "    \"\"\", (name, rating, description, embedding, json.dumps({\"img\": \"url\"}), json.dumps({\"comments\": \"none\"})))\n",
        "\n",
        "# Commit các thay đổi\n",
        "conn.commit()\n",
        "\n",
        "# Đóng kết nối và con trỏ\n",
        "cur.close()\n",
        "conn.close()"
      ],
      "metadata": {
        "id": "KbvRNVbqlrVi"
      },
      "execution_count": null,
      "outputs": []
    }
  ]
}