{
  "nbformat": 4,
  "nbformat_minor": 0,
  "metadata": {
    "colab": {
      "provenance": [],
      "authorship_tag": "ABX9TyNWVjPiv1CfQupBiJVWSvk3",
      "include_colab_link": true
    },
    "kernelspec": {
      "name": "python3",
      "display_name": "Python 3"
    },
    "language_info": {
      "name": "python"
    }
  },
  "cells": [
    {
      "cell_type": "markdown",
      "metadata": {
        "id": "view-in-github",
        "colab_type": "text"
      },
      "source": [
        "<a href=\"https://colab.research.google.com/github/nkcong206/Travel-Recommendation-System/blob/main/database/database.ipynb\" target=\"_parent\"><img src=\"https://colab.research.google.com/assets/colab-badge.svg\" alt=\"Open In Colab\"/></a>"
      ]
    },
    {
      "cell_type": "code",
      "source": [
        "!pip install -q langchain-google-genai"
      ],
      "metadata": {
        "id": "zvq9prc4z7Ch",
        "outputId": "a64be1ea-7967-42dd-8328-ab754d37dbeb",
        "colab": {
          "base_uri": "https://localhost:8080/"
        }
      },
      "execution_count": 2,
      "outputs": [
        {
          "output_type": "stream",
          "name": "stdout",
          "text": [
            "\u001b[2K     \u001b[90m━━━━━━━━━━━━━━━━━━━━━━━━━━━━━━━━━━━━━━━━\u001b[0m \u001b[32m50.4/50.4 kB\u001b[0m \u001b[31m2.2 MB/s\u001b[0m eta \u001b[36m0:00:00\u001b[0m\n",
            "\u001b[2K   \u001b[90m━━━━━━━━━━━━━━━━━━━━━━━━━━━━━━━━━━━━━━━━\u001b[0m \u001b[32m396.4/396.4 kB\u001b[0m \u001b[31m10.3 MB/s\u001b[0m eta \u001b[36m0:00:00\u001b[0m\n",
            "\u001b[2K   \u001b[90m━━━━━━━━━━━━━━━━━━━━━━━━━━━━━━━━━━━━━━━━\u001b[0m \u001b[32m290.4/290.4 kB\u001b[0m \u001b[31m17.7 MB/s\u001b[0m eta \u001b[36m0:00:00\u001b[0m\n",
            "\u001b[2K   \u001b[90m━━━━━━━━━━━━━━━━━━━━━━━━━━━━━━━━━━━━━━━━\u001b[0m \u001b[32m76.4/76.4 kB\u001b[0m \u001b[31m4.2 MB/s\u001b[0m eta \u001b[36m0:00:00\u001b[0m\n",
            "\u001b[2K   \u001b[90m━━━━━━━━━━━━━━━━━━━━━━━━━━━━━━━━━━━━━━━━\u001b[0m \u001b[32m77.9/77.9 kB\u001b[0m \u001b[31m4.8 MB/s\u001b[0m eta \u001b[36m0:00:00\u001b[0m\n",
            "\u001b[2K   \u001b[90m━━━━━━━━━━━━━━━━━━━━━━━━━━━━━━━━━━━━━━━━\u001b[0m \u001b[32m141.9/141.9 kB\u001b[0m \u001b[31m9.4 MB/s\u001b[0m eta \u001b[36m0:00:00\u001b[0m\n",
            "\u001b[2K   \u001b[90m━━━━━━━━━━━━━━━━━━━━━━━━━━━━━━━━━━━━━━━━\u001b[0m \u001b[32m58.3/58.3 kB\u001b[0m \u001b[31m3.5 MB/s\u001b[0m eta \u001b[36m0:00:00\u001b[0m\n",
            "\u001b[?25h"
          ]
        }
      ]
    },
    {
      "cell_type": "code",
      "execution_count": 45,
      "metadata": {
        "id": "3HhNYX0hjTON"
      },
      "outputs": [],
      "source": [
        "import psycopg2\n",
        "import json\n",
        "import getpass\n",
        "import os"
      ]
    },
    {
      "cell_type": "code",
      "source": [
        "postgres_url = getpass.getpass(\"Enter your postgresql url: \")"
      ],
      "metadata": {
        "id": "4DwhwwY_lvB7",
        "colab": {
          "base_uri": "https://localhost:8080/"
        },
        "outputId": "ce2fdc25-f8b0-47f6-cb82-515409de7ea8"
      },
      "execution_count": 4,
      "outputs": [
        {
          "name": "stdout",
          "output_type": "stream",
          "text": [
            "Enter your postgresql url: ··········\n"
          ]
        }
      ]
    },
    {
      "cell_type": "code",
      "source": [
        "os.environ[\"GOOGLE_API_KEY\"] = getpass.getpass(\"Enter your Google AI API key: \")"
      ],
      "metadata": {
        "colab": {
          "base_uri": "https://localhost:8080/"
        },
        "id": "faW_sgdjyEOm",
        "outputId": "165dffbc-f2d2-48b5-b190-0815c394f88b"
      },
      "execution_count": 30,
      "outputs": [
        {
          "name": "stdout",
          "output_type": "stream",
          "text": [
            "Enter your Google AI API key: ··········\n"
          ]
        }
      ]
    },
    {
      "cell_type": "code",
      "source": [
        "from langchain_google_genai import ChatGoogleGenerativeAI\n",
        "\n",
        "llm = ChatGoogleGenerativeAI(\n",
        "    model=\"gemini-1.5-flash\",\n",
        "    temperature=0,\n",
        "    max_tokens=None,\n",
        "    timeout=None,\n",
        "    max_retries=2,\n",
        ")"
      ],
      "metadata": {
        "id": "BNCylNIyyIAH"
      },
      "execution_count": 38,
      "outputs": []
    },
    {
      "cell_type": "code",
      "source": [
        "# Connect to PostgreSQL database\n",
        "conn = psycopg2.connect(postgres_url)\n",
        "cur = conn.cursor()\n",
        "cur.execute(\"CREATE EXTENSION IF NOT EXISTS postgis;\")\n",
        "cur.execute(\"CREATE EXTENSION IF NOT EXISTS vector;\")\n",
        "conn.commit()\n",
        "\n",
        "cur.execute(\"\"\"\n",
        "DROP SCHEMA IF EXISTS travel_database CASCADE;\n",
        "CREATE SCHEMA IF NOT EXISTS travel_database;\n",
        "SET search_path TO travel_database, public;  -- Use public where PostGIS is installed\n",
        "\n",
        "-- Create a custom type for the Address structure\n",
        "CREATE TYPE Address AS (\n",
        "    street TEXT,\n",
        "    district TEXT,\n",
        "    city TEXT\n",
        ");\n",
        "\n",
        "CREATE TYPE Time AS (\n",
        "    open_time TIME WITH TIME ZONE,\n",
        "    close_time TIME WITH TIME ZONE\n",
        ")\n",
        "\n",
        "-- Create the Hotel table with an embedding vector column\n",
        "CREATE TABLE Hotel (\n",
        "    hotel_id SERIAL PRIMARY KEY,\n",
        "    name VARCHAR(255),\n",
        "    address Address,\n",
        "    location GEOMETRY(POINT),\n",
        "    amenities TEXT[ ],\n",
        "    styles TEXT[ ],\n",
        "    rating DECIMAL(2, 1),\n",
        "    description TEXT,\n",
        "    img_url JSON,\n",
        "    comments JSON\n",
        ");\n",
        "\n",
        "-- Create an index on the district of the Address and Rating columns for the Hotel table\n",
        "-- CREATE INDEX idx_hotel_address_rating ON Hotel(((address).district), rating);\n",
        "\n",
        "-- Create the Price table for the Hotel table\n",
        "CREATE TABLE HotelPrice (\n",
        "    hprice_id SERIAL PRIMARY KEY,\n",
        "    hotel_id INT REFERENCES Hotel(hotel_id) ON DELETE CASCADE,\n",
        "    room_type VARCHAR(255),\n",
        "    capacity INT,\n",
        "    price INT NOT NULL\n",
        ");\n",
        "\n",
        "-- Create an index on the hotel_id for the HotelPrice table\n",
        "-- CREATE INDEX hotel_idx_address_district ON Hotel(((address).district));\n",
        "-- CREATE INDEX hotel_idx_rating ON Hotel(rating);\n",
        "-- CREATE INDEX hotel_idx_location ON Hotel USING GIST(location);\n",
        "\n",
        "-- Create the TouristAttraction table with an embedding vector column\n",
        "CREATE TABLE TouristAttraction (\n",
        "    attraction_id SERIAL PRIMARY KEY,\n",
        "    name VARCHAR(255),\n",
        "    address Address,\n",
        "    location GEOMETRY(POINT),\n",
        "    attraction_type VARCHAR(255),\n",
        "    working_hour Time,\n",
        "    rating DECIMAL(2, 1),\n",
        "    tour_duration INTERVAL,\n",
        "    description TEXT,\n",
        "    img_url JSON,\n",
        "    comments JSON\n",
        ");\n",
        "\n",
        "-- Create an index on the district of the Address and Rating columns for the TouristAttraction table\n",
        "-- CREATE INDEX attraction_idx_address_district ON TouristAttraction(((address).district));\n",
        "-- CREATE INDEX attraction_idx_rating ON TouristAttraction(rating);\n",
        "-- CREATE INDEX attraction_idx_location ON TouristAttraction USING GIST(location);\n",
        "\n",
        "-- Create the Price table for the TouristAttraction table\n",
        "CREATE TABLE AttractionPrice (\n",
        "    aprice_id SERIAL PRIMARY KEY,\n",
        "    attraction_id INT REFERENCES TouristAttraction(attraction_id) ON DELETE CASCADE,\n",
        "    ticket_type VARCHAR(255),\n",
        "    number_people INT,\n",
        "    price INT NOT NULL\n",
        ");\n",
        "\n",
        "-- Create an index on the attraction_id for the AttractionPrice table\n",
        "-- CREATE INDEX idx_attractionprice_attractionid ON AttractionPrice(attraction_id);\n",
        "\n",
        "-- Create the Restaurant table with an embedding vector column\n",
        "CREATE TABLE Restaurant (\n",
        "    res_id SERIAL PRIMARY KEY,\n",
        "    name VARCHAR(255),\n",
        "    address Address,\n",
        "    location GEOMETRY(POINT),\n",
        "    working_hour Time,\n",
        "    suitable_for TEXT[],\n",
        "    restaurant_type TEXT[],\n",
        "    rating DECIMAL(2, 1),\n",
        "    description TEXT,\n",
        "    parking_available BOOLEAN NOT NULL,\n",
        "    kids_play_area BOOLEAN NOT NULL,\n",
        "    img_url JSON,\n",
        "    comments JSON\n",
        ");\n",
        "\n",
        "-- Create an index on the district of the Address and Rating columns for the Restaurant table\n",
        "-- CREATE INDEX res_idx_address_district ON Restaurant(((address).district));\n",
        "-- CREATE INDEX res_idx_rating ON Restaurant(rating);\n",
        "-- CREATE INDEX res_idx_location ON Restaurant USING GIST(location);\n",
        "\"\"\")\n",
        "conn.commit()\n",
        "cur.close()\n",
        "conn.close()"
      ],
      "metadata": {
        "id": "w6IYa9_Kll7g"
      },
      "execution_count": null,
      "outputs": []
    },
    {
      "cell_type": "markdown",
      "source": [
        "Luxury,\n",
        "Eco-friendly,\n",
        "Boutique,\n",
        "Beachfront,\n",
        "Family-friendly,\n",
        "Business,\n",
        "Romantic,\n",
        "Cultural,\n",
        "Wellness,\n",
        "Adventure\n"
      ],
      "metadata": {
        "id": "je4HBI969OrK"
      }
    },
    {
      "cell_type": "code",
      "source": [
        "import base64, httpx\n",
        "from langchain_core.messages import HumanMessage\n",
        "data = {\n",
        "  \"img_url\": [\n",
        "    \"https://ik.imagekit.io/tvlk/apr-asset/Ixf4aptF5N2Qdfmh4fGGYhTN274kJXuNMkUAzpL5HuD9jzSxIGG5kZNhhHY-p7nw/hotel/asset/20075775-804e265fb0bc601cf1757992608dc0c8.jpeg?_src=imagekit&tr=c-at_max,f-jpg,fo-auto,h-332,pr-true,q-80,w-480\",\n",
        "    \"https://ik.imagekit.io/tvlk/apr-asset/Ixf4aptF5N2Qdfmh4fGGYhTN274kJXuNMkUAzpL5HuD9jzSxIGG5kZNhhHY-p7nw/hotel/asset/20075775-24f1983ad091e2f3ec5587076cb5aa0d.jpeg?_src=imagekit&tr=c-at_max,f-jpg,fo-auto,h-162,pr-true,q-80,w-184\",\n",
        "    \"https://ik.imagekit.io/tvlk/apr-asset/Ixf4aptF5N2Qdfmh4fGGYhTN274kJXuNMkUAzpL5HuD9jzSxIGG5kZNhhHY-p7nw/hotel/asset/20075775-443207d9a60d8b8ac0fc4eb4cddb5a8b.jpeg?_src=imagekit&tr=c-at_max,f-jpg,fo-auto,h-162,pr-true,q-80,w-184\",\n",
        "    \"https://ik.imagekit.io/tvlk/apr-asset/Ixf4aptF5N2Qdfmh4fGGYhTN274kJXuNMkUAzpL5HuD9jzSxIGG5kZNhhHY-p7nw/hotel/asset/20075775-05dc1d66750934106c299c5499b2ebcb.jpeg?_src=imagekit&tr=c-at_max,f-jpg,fo-auto,h-162,pr-true,q-80,w-184\",\n",
        "    \"https://ik.imagekit.io/tvlk/apr-asset/Ixf4aptF5N2Qdfmh4fGGYhTN274kJXuNMkUAzpL5HuD9jzSxIGG5kZNhhHY-p7nw/hotel/asset/20075775-9d3fcde1dcf5dcde5df95332394daa8c.jpeg?_src=imagekit&tr=c-at_max,f-jpg,fo-auto,h-162,pr-true,q-80,w-184\",\n",
        "    \"https://ik.imagekit.io/tvlk/apr-asset/Ixf4aptF5N2Qdfmh4fGGYhTN274kJXuNMkUAzpL5HuD9jzSxIGG5kZNhhHY-p7nw/hotel/asset/20075775-9ab065ca77d5217aad30ef5ac322906b.jpeg?_src=imagekit&tr=c-at_max,f-jpg,fo-auto,h-162,pr-true,q-80,w-184\",\n",
        "    \"https://ik.imagekit.io/tvlk/apr-asset/Ixf4aptF5N2Qdfmh4fGGYhTN274kJXuNMkUAzpL5HuD9jzSxIGG5kZNhhHY-p7nw/hotel/asset/20075775-8158b571c9cd086c6faeb80865ae15b1.jpeg?_src=imagekit&tr=c-at_max,f-jpg,fo-auto,h-162,pr-true,q-80,w-184\"\n",
        "  ]\n",
        "}\n",
        "image_url = data[\"img_url\"][:4]\n",
        "image_data = base64.b64encode(httpx.get(image_url[0]).content).decode(\"utf-8\")\n",
        "\n",
        "prompt = \"Identify the hotel theme from the images. Return only one theme, and it must be one of the following: 'Luxury', 'Eco-friendly', 'Boutique', 'Beachfront', 'Family-friendly', 'Business', 'Romantic', 'Cultural', 'Wellness', or 'Adventure'. Do not provide any other information.\"\n",
        "\n",
        "content=[\n",
        "        {\"type\": \"text\", \"text\": prompt},\n",
        "        {\n",
        "            \"type\": \"image_url\",\n",
        "            \"image_url\": {\"url\": f\"data:image/jpeg;base64,{image_data}\"},\n",
        "        },\n",
        "    ]\n",
        "\n",
        "message = HumanMessage(\n",
        "    content=content\n",
        ")"
      ],
      "metadata": {
        "id": "VUr5grgC0-Hx"
      },
      "execution_count": 50,
      "outputs": []
    },
    {
      "cell_type": "code",
      "source": [
        "respone = llm.invoke([message])\n",
        "print(respone.content)"
      ],
      "metadata": {
        "id": "e3R3fb-P3jKP",
        "outputId": "7dae3524-ab41-45ac-e35b-8dc096986527",
        "colab": {
          "base_uri": "https://localhost:8080/"
        }
      },
      "execution_count": 51,
      "outputs": [
        {
          "output_type": "stream",
          "name": "stdout",
          "text": [
            "Luxury\n",
            "\n"
          ]
        }
      ]
    },
    {
      "cell_type": "code",
      "source": [
        "# Dữ liệu mẫu\n",
        "hotels = [\n",
        "    (\"Khách sạn A\", \"Khách sạn cao cấp gần trung tâm Hà Nội, với các tiện nghi hiện đại và dịch vụ khách hàng xuất sắc.\", 4.5)\n",
        "]\n",
        "\n",
        "attractions = [\n",
        "    (\"Tháp Rùa\", \"Một biểu tượng nổi tiếng của Hà Nội, nằm trên hồ Hoàn Kiếm, rất phổ biến với du khách và người dân địa phương.\", \"Di tích lịch sử và điểm tham quan nổi bật\", 4.7),\n",
        "    (\"Chùa Một Cột\", \"Chùa cổ kính với kiến trúc độc đáo, nổi tiếng với hình dáng như một bông sen và nằm trên một cột duy nhất.\", \"Di tích văn hóa và tâm linh\", 4.6),\n",
        "    (\"Lăng Bác\", \"Lăng chủ tịch Hồ Chí Minh, nơi lưu giữ di hài của Hồ Chí Minh, một điểm đến quan trọng và thiêng liêng ở Hà Nội.\", \"Nơi thờ cúng và lưu giữ di sản\", 4.8),\n",
        "    (\"Văn Miếu Quốc Tử Giám\", \"Trường đại học cổ xưa nhất của Việt Nam, nơi thờ các vị hiền triết và là một biểu tượng của giáo dục truyền thống.\", \"Di tích giáo dục và văn hóa\", 4.9),\n",
        "    (\"Hồ Tây\", \"Hồ lớn nhất tại Hà Nội, là nơi lý tưởng cho các hoạt động giải trí, đi dạo và thư giãn bên bờ hồ xanh mát.\", \"Khu vực giải trí và thư giãn\", 4.4)\n",
        "]\n",
        "\n",
        "restaurants = [\n",
        "    (\"Nhà hàng A\", \"Nhà hàng phục vụ các món ăn địa phương với hương vị đậm đà, nổi tiếng với món bún chả và phở.\", 4.2),\n",
        "    (\"Nhà hàng B\", \"Nhà hàng phục vụ món Âu và Á, với thực đơn đa dạng và phong cách ẩm thực quốc tế.\", 3.9),\n",
        "    (\"Nhà hàng C\", \"Nhà hàng hải sản tươi ngon, chuyên cung cấp các món hải sản tươi sống và món đặc sản vùng biển.\", 4.3),\n",
        "    (\"Nhà hàng D\", \"Nhà hàng sang trọng với không gian ấm cúng, phù hợp cho các bữa tối lãng mạn và sự kiện đặc biệt.\", 4.6),\n",
        "    (\"Nhà hàng E\", \"Nhà hàng nhanh và tiện lợi, phục vụ các món ăn nhanh và đồ uống, lý tưởng cho bữa trưa gọn gàng.\", 4.0)\n",
        "]\n",
        "\n",
        "\n",
        "# Kết nối đến cơ sở dữ liệu PostgreSQL\n",
        "conn = psycopg2.connect(postgres_url)\n",
        "cur = conn.cursor()\n",
        "cur.execute(\"\"\"SET search_path TO travel_database, public;\"\"\")\n",
        "\n",
        "# Chèn dữ liệu vào bảng Hotel\n",
        "for name, description, rating in hotels:\n",
        "    cur.execute(\"\"\"\n",
        "        INSERT INTO Hotel (name, address, location, rating, description, img_url, comments)\n",
        "        VALUES (%s, ROW('0', 'Cầu Giấy', 'Hà Nội'), ST_Point(105.8498, 21.0285), %s, %s, %s, %s);\n",
        "    \"\"\", (name, rating, description, json.dumps({\"img\": \"url\"}), json.dumps({\"comments\": \"none\"})))\n",
        "\n",
        "# Chèn dữ liệu vào bảng TouristAttraction\n",
        "for name, description, attraction_type, rating in attractions:\n",
        "    cur.execute(\"\"\"\n",
        "        INSERT INTO TouristAttraction (name, address, location, attraction_type, rating, tour_duration, description, img_url, comments)\n",
        "        VALUES (%s, ROW('0', 'Cầu Giấy', 'Hà Nội'), ST_Point(105.8498, 21.0285), %s, %s, NULL, %s, %s, %s);\n",
        "    \"\"\", (name, attraction_type, rating, json.dumps({\"img\": \"url\"}), json.dumps({\"comments\": \"none\"})))\n",
        "\n",
        "# Chèn dữ liệu vào bảng Restaurant\n",
        "for name, description, rating in restaurants:\n",
        "    cur.execute(\"\"\"\n",
        "        INSERT INTO Restaurant (name, address, location, rating, description, img_url, comments)\n",
        "        VALUES (%s, ROW('0', 'Cầu Giấy', 'Hà Nội'), ST_Point(105.8498, 21.0285), %s, %s, %s, %s);\n",
        "    \"\"\", (name, rating, description, json.dumps({\"img\": \"url\"}), json.dumps({\"comments\": \"none\"})))\n",
        "\n",
        "# Commit các thay đổi\n",
        "conn.commit()\n",
        "\n",
        "# Đóng kết nối và con trỏ\n",
        "cur.close()\n",
        "conn.close()"
      ],
      "metadata": {
        "id": "KbvRNVbqlrVi"
      },
      "execution_count": null,
      "outputs": []
    }
  ]
}